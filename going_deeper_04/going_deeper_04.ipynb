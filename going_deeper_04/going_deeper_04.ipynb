{
 "cells": [
  {
   "cell_type": "code",
   "execution_count": 1,
   "id": "b8a46659",
   "metadata": {},
   "outputs": [
    {
     "name": "stdout",
     "output_type": "stream",
     "text": [
      "Requirement already satisfied: openpyxl in /opt/conda/lib/python3.9/site-packages (3.1.2)\n",
      "Requirement already satisfied: et-xmlfile in /opt/conda/lib/python3.9/site-packages (from openpyxl) (1.1.0)\n",
      "\u001b[33mWARNING: Running pip as the 'root' user can result in broken permissions and conflicting behaviour with the system package manager. It is recommended to use a virtual environment instead: https://pip.pypa.io/warnings/venv\u001b[0m\n"
     ]
    }
   ],
   "source": [
    "!pip install openpyxl"
   ]
  },
  {
   "cell_type": "code",
   "execution_count": 2,
   "id": "6faf61a0",
   "metadata": {},
   "outputs": [
    {
     "name": "stdout",
     "output_type": "stream",
     "text": [
      "corpus_preprocessed_02.xlsx\n",
      "corpus_preprocessed_01.xlsx\n"
     ]
    }
   ],
   "source": [
    "# 액셀 파일 데이터프레임으로 불러오기\n",
    "\n",
    "import pandas as pd\n",
    "import os\n",
    "\n",
    "dfdict = dict()\n",
    "\n",
    "for filename in os.listdir('./'):\n",
    "    if filename.endswith('.xlsx'):\n",
    "        print(filename)\n",
    "        dfdict[filename] = pd.read_excel(filename)\n"
   ]
  },
  {
   "cell_type": "code",
   "execution_count": 3,
   "id": "55483227",
   "metadata": {},
   "outputs": [
    {
     "name": "stdout",
     "output_type": "stream",
     "text": [
      "Index(['Unnamed: 0', 'src', 'tgt'], dtype='object')\n",
      "Index(['Unnamed: 0', 'src', 'tgt'], dtype='object')\n"
     ]
    }
   ],
   "source": [
    "for df in dfdict.values():\n",
    "    print(df.columns)"
   ]
  },
  {
   "cell_type": "code",
   "execution_count": 4,
   "id": "cd297c29",
   "metadata": {},
   "outputs": [
    {
     "name": "stdout",
     "output_type": "stream",
     "text": [
      "   Unnamed: 0                                                src  \\\n",
      "0      197978  농업 산림 분야에는 임산물 가공 유통 단지 조성 억원 , 임산물 수출특화단지 육성 ...   \n",
      "1      197979  사절단은 김현종 통상교섭본부장을 대표로 외교부 , 기재부 등 관계부처와 자동차산업협...   \n",
      "2      197980  새누리당과 더불어민주당 등 여당 텃밭 에서 무소속으로 선에 성공한 오규석 기장군수는...   \n",
      "3      197981  현재 포항에는 공동연구단 외에도 포항지진범시민대책본부 , 지열발전과 포항지진 진상규...   \n",
      "4      197982  고려대는 중소벤처기업부가 주관하는 초기창업패키지 사업으로 개월간 총 억 , 만원 ,...   \n",
      "\n",
      "                                                 tgt  \n",
      "0  <start> in the agricultural and forest sectors...  \n",
      "1  <start> the delegation was headed by the direc...  \n",
      "2  <start> gijang county governor , oh kyu seok ,...  \n",
      "3  <start> currently , in addition to the joint r...  \n",
      "4  <start> korea university announced on the that...  \n",
      "   Unnamed: 0                                                src  \\\n",
      "0           0  bible coloring 은 성경의 아름다운 이야기를 체험 할 수 있는 컬러링 앱...   \n",
      "1           1                                      씨티은행에서 일하세요 ?   \n",
      "2           2              푸리토의 베스트셀러는 해외에서 입소문만으로 차 완판을 기록하였다 .   \n",
      "3           3    장에서는 예수님이 이번엔 나사로를 무덤에서 불러내어 죽은 자 가운데서 살리셨습니다 .   \n",
      "4           4        . , , 사이즈가 몇 개나 더 재입고 될지 제게 알려주시면 감사하겠습니다 .   \n",
      "\n",
      "                                                 tgt  \n",
      "0  <start> bible coloring is a coloring applicati...  \n",
      "1         <start> do you work at a city bank ? <end>  \n",
      "2  <start> purito s bestseller , which recorded t...  \n",
      "3  <start> in chapter jesus called lazarus from t...  \n",
      "4  <start> i would feel grateful to know how many...  \n"
     ]
    }
   ],
   "source": [
    "for df in dfdict.values():\n",
    "    print(df.head())"
   ]
  },
  {
   "cell_type": "code",
   "execution_count": 5,
   "id": "9986b43a",
   "metadata": {},
   "outputs": [
    {
     "data": {
      "text/html": [
       "<div>\n",
       "<style scoped>\n",
       "    .dataframe tbody tr th:only-of-type {\n",
       "        vertical-align: middle;\n",
       "    }\n",
       "\n",
       "    .dataframe tbody tr th {\n",
       "        vertical-align: top;\n",
       "    }\n",
       "\n",
       "    .dataframe thead th {\n",
       "        text-align: right;\n",
       "    }\n",
       "</style>\n",
       "<table border=\"1\" class=\"dataframe\">\n",
       "  <thead>\n",
       "    <tr style=\"text-align: right;\">\n",
       "      <th></th>\n",
       "      <th>src</th>\n",
       "      <th>tgt</th>\n",
       "    </tr>\n",
       "  </thead>\n",
       "  <tbody>\n",
       "    <tr>\n",
       "      <th>0</th>\n",
       "      <td>농업 산림 분야에는 임산물 가공 유통 단지 조성 억원 , 임산물 수출특화단지 육성 ...</td>\n",
       "      <td>&lt;start&gt; in the agricultural and forest sectors...</td>\n",
       "    </tr>\n",
       "    <tr>\n",
       "      <th>1</th>\n",
       "      <td>사절단은 김현종 통상교섭본부장을 대표로 외교부 , 기재부 등 관계부처와 자동차산업협...</td>\n",
       "      <td>&lt;start&gt; the delegation was headed by the direc...</td>\n",
       "    </tr>\n",
       "    <tr>\n",
       "      <th>2</th>\n",
       "      <td>새누리당과 더불어민주당 등 여당 텃밭 에서 무소속으로 선에 성공한 오규석 기장군수는...</td>\n",
       "      <td>&lt;start&gt; gijang county governor , oh kyu seok ,...</td>\n",
       "    </tr>\n",
       "    <tr>\n",
       "      <th>3</th>\n",
       "      <td>현재 포항에는 공동연구단 외에도 포항지진범시민대책본부 , 지열발전과 포항지진 진상규...</td>\n",
       "      <td>&lt;start&gt; currently , in addition to the joint r...</td>\n",
       "    </tr>\n",
       "    <tr>\n",
       "      <th>4</th>\n",
       "      <td>고려대는 중소벤처기업부가 주관하는 초기창업패키지 사업으로 개월간 총 억 , 만원 ,...</td>\n",
       "      <td>&lt;start&gt; korea university announced on the that...</td>\n",
       "    </tr>\n",
       "  </tbody>\n",
       "</table>\n",
       "</div>"
      ],
      "text/plain": [
       "                                                 src  \\\n",
       "0  농업 산림 분야에는 임산물 가공 유통 단지 조성 억원 , 임산물 수출특화단지 육성 ...   \n",
       "1  사절단은 김현종 통상교섭본부장을 대표로 외교부 , 기재부 등 관계부처와 자동차산업협...   \n",
       "2  새누리당과 더불어민주당 등 여당 텃밭 에서 무소속으로 선에 성공한 오규석 기장군수는...   \n",
       "3  현재 포항에는 공동연구단 외에도 포항지진범시민대책본부 , 지열발전과 포항지진 진상규...   \n",
       "4  고려대는 중소벤처기업부가 주관하는 초기창업패키지 사업으로 개월간 총 억 , 만원 ,...   \n",
       "\n",
       "                                                 tgt  \n",
       "0  <start> in the agricultural and forest sectors...  \n",
       "1  <start> the delegation was headed by the direc...  \n",
       "2  <start> gijang county governor , oh kyu seok ,...  \n",
       "3  <start> currently , in addition to the joint r...  \n",
       "4  <start> korea university announced on the that...  "
      ]
     },
     "execution_count": 5,
     "metadata": {},
     "output_type": "execute_result"
    }
   ],
   "source": [
    "df_total = pd.concat(list(dfdict.values()))[['src', 'tgt']]\n",
    "df_total.reset_index(drop=True, inplace=True)\n",
    "df_total.head()"
   ]
  },
  {
   "cell_type": "code",
   "execution_count": 6,
   "id": "d4ecfca2",
   "metadata": {},
   "outputs": [
    {
     "name": "stdout",
     "output_type": "stream",
     "text": [
      "1602418\n"
     ]
    }
   ],
   "source": [
    "print(len(df_total))"
   ]
  },
  {
   "cell_type": "code",
   "execution_count": 7,
   "id": "55386ce0",
   "metadata": {},
   "outputs": [],
   "source": [
    "df_prep = df_total.sample(n=100000)"
   ]
  },
  {
   "cell_type": "code",
   "execution_count": 8,
   "id": "070c72ea",
   "metadata": {},
   "outputs": [
    {
     "data": {
      "text/plain": [
       "100000"
      ]
     },
     "execution_count": 8,
     "metadata": {},
     "output_type": "execute_result"
    }
   ],
   "source": [
    "len(df_prep)"
   ]
  },
  {
   "cell_type": "code",
   "execution_count": 9,
   "id": "9a614d4e",
   "metadata": {},
   "outputs": [],
   "source": [
    "import re\n",
    "\n",
    "def preprocess_sentence(sentence, s_token=False, e_token=False):\n",
    "    sentence = sentence.lower().strip()\n",
    "\n",
    "    sentence = re.sub(r\"([?.!,])\", r\" \\1 \", sentence)\n",
    "    sentence = re.sub(r'[\" \"]+', \" \", sentence)\n",
    "    sentence = re.sub(r\"[^a-zA-Z가-힣?.!,]+\", \" \", sentence)\n",
    "\n",
    "    sentence = sentence.strip()\n",
    "\n",
    "    if s_token:\n",
    "        sentence = '<start> ' + sentence\n",
    "\n",
    "    if e_token:\n",
    "        sentence += ' <end>'\n",
    "    \n",
    "    return sentence"
   ]
  },
  {
   "cell_type": "code",
   "execution_count": 10,
   "id": "17ccb1bf",
   "metadata": {},
   "outputs": [],
   "source": [
    "# 데이터 전처리 후 백업 진행하는 코드\n",
    "\n",
    "# df_prep = pd.DataFrame()\n",
    "# df_prep['src'] = df_total.apply(lambda row: preprocess_sentence(row['source']), axis=1)\n",
    "# df_prep['tgt'] = df_total.apply(lambda row: preprocess_sentence(row['target'], s_token=True, e_token=True), axis=1)\n",
    "# df_prep.head()"
   ]
  },
  {
   "cell_type": "code",
   "execution_count": 11,
   "id": "d48de3b8",
   "metadata": {},
   "outputs": [],
   "source": [
    "# df_prep.iloc[:1000000].to_excel('corpus_preprocessed_01.xlsx')"
   ]
  },
  {
   "cell_type": "code",
   "execution_count": 12,
   "id": "2edcb7b7",
   "metadata": {},
   "outputs": [],
   "source": [
    "# df_prep.iloc[1000000:].to_excel('corpus_preprocessed_02.xlsx')"
   ]
  },
  {
   "cell_type": "code",
   "execution_count": 14,
   "id": "67646bd7",
   "metadata": {},
   "outputs": [],
   "source": [
    "from konlpy.tag import Mecab\n",
    "m = Mecab()"
   ]
  },
  {
   "cell_type": "code",
   "execution_count": 15,
   "id": "7959623a",
   "metadata": {},
   "outputs": [
    {
     "name": "stderr",
     "output_type": "stream",
     "text": [
      "100%|██████████| 100000/100000 [00:14<00:00, 6933.71it/s]\n"
     ]
    }
   ],
   "source": [
    "from tqdm import tqdm\n",
    "\n",
    "corpus_kor = list()\n",
    "for sentence_kor in tqdm(df_prep['src']):\n",
    "    corpus_kor.append(m.morphs(sentence_kor))"
   ]
  },
  {
   "cell_type": "code",
   "execution_count": 16,
   "id": "abc7dd5c",
   "metadata": {},
   "outputs": [
    {
     "name": "stdout",
     "output_type": "stream",
     "text": [
      "100000 100000\n"
     ]
    }
   ],
   "source": [
    "corpus_eng = list(df_prep['tgt'].apply(lambda t: t.split(' ')))\n",
    "print(len(corpus_kor), len(corpus_eng))"
   ]
  },
  {
   "cell_type": "code",
   "execution_count": 17,
   "id": "d693a2a4",
   "metadata": {},
   "outputs": [
    {
     "name": "stdout",
     "output_type": "stream",
     "text": [
      "['직접', '이동', '관측', '업무', '를', '수행', '하', '는', '김선정', '연구원', '이', '시연', '에', '나섰', '다', '.']\n",
      "['<start>', 'kim', 'sun', 'jung', ',', 'a', 'researcher', 'who', 'is', 'in', 'charge', 'of', 'observing', 'movements', 'in', 'person', ',', 'started', 'to', 'demonstrate', '.', '<end>']\n"
     ]
    }
   ],
   "source": [
    "print(corpus_kor[200])\n",
    "print(corpus_eng[200])"
   ]
  },
  {
   "cell_type": "code",
   "execution_count": 18,
   "id": "e15acafe",
   "metadata": {},
   "outputs": [
    {
     "data": {
      "image/png": "[encoded data removed]",
      "text/plain": [
       "<Figure size 720x360 with 2 Axes>"
      ]
     },
     "metadata": {
      "needs_background": "light"
     },
     "output_type": "display_data"
    }
   ],
   "source": [
    "# 문장 길이에 대한 히스토그램\n",
    "\n",
    "from matplotlib import pyplot as plt\n",
    "\n",
    "len_kor = [len(i) for i in corpus_kor]\n",
    "len_eng = [len(i) for i in corpus_eng]\n",
    "\n",
    "plt.figure(figsize=(10,5))\n",
    "plt.subplot(1,2,1)\n",
    "plt.hist(len_kor)\n",
    "plt.title('histogram for sentence length (kor)')\n",
    "plt.subplot(1,2,2)\n",
    "plt.hist(len_eng)\n",
    "plt.title('histogram for sentence length (eng)')\n",
    "plt.show()"
   ]
  },
  {
   "cell_type": "code",
   "execution_count": 19,
   "id": "2c712284",
   "metadata": {},
   "outputs": [
    {
     "name": "stderr",
     "output_type": "stream",
     "text": [
      "100%|██████████| 100000/100000 [00:00<00:00, 1320687.06it/s]\n"
     ]
    }
   ],
   "source": [
    "# 길이 40이하인 문장만 남긴다\n",
    "\n",
    "corpus_crop_kor, corpus_crop_eng = list(), list()\n",
    "for i in tqdm(range(len(corpus_kor))):\n",
    "    if len(corpus_kor[i])<=40 and len(corpus_eng[i])<=40:\n",
    "        corpus_crop_kor.append(corpus_kor[i])\n",
    "        corpus_crop_eng.append(corpus_eng[i])"
   ]
  },
  {
   "cell_type": "code",
   "execution_count": 20,
   "id": "05019a4d",
   "metadata": {},
   "outputs": [
    {
     "name": "stdout",
     "output_type": "stream",
     "text": [
      "76523 76523\n"
     ]
    }
   ],
   "source": [
    "print(len(corpus_crop_kor), len(corpus_crop_eng))"
   ]
  },
  {
   "cell_type": "code",
   "execution_count": 21,
   "id": "be7227a3",
   "metadata": {},
   "outputs": [],
   "source": [
    "import tensorflow as tf\n",
    "\n",
    "def tokenize(corpus, max_words=10000):\n",
    "    tokenizer = tf.keras.preprocessing.text.Tokenizer(num_words=max_words)\n",
    "    tokenizer.fit_on_texts(corpus)\n",
    "\n",
    "    tensor = tokenizer.texts_to_sequences(corpus)\n",
    "\n",
    "    tensor = tf.keras.preprocessing.sequence.pad_sequences(tensor, padding='post')\n",
    "\n",
    "    return tensor, tokenizer"
   ]
  },
  {
   "cell_type": "code",
   "execution_count": 22,
   "id": "932f3867",
   "metadata": {},
   "outputs": [],
   "source": [
    "tensor_kor, tokenizer_kor = tokenize(corpus_crop_kor)"
   ]
  },
  {
   "cell_type": "code",
   "execution_count": 23,
   "id": "6e2ec3fa",
   "metadata": {},
   "outputs": [],
   "source": [
    "tensor_eng, tokenizer_eng = tokenize(corpus_crop_eng)"
   ]
  },
  {
   "cell_type": "code",
   "execution_count": 24,
   "id": "42e3da96",
   "metadata": {},
   "outputs": [],
   "source": [
    "from sklearn.model_selection import train_test_split\n",
    "\n",
    "train_src, test_src, train_tgt, test_tgt = train_test_split(tensor_kor, tensor_eng, test_size=0.2)"
   ]
  },
  {
   "cell_type": "code",
   "execution_count": 25,
   "id": "3c99e205",
   "metadata": {},
   "outputs": [],
   "source": [
    "class BahdanauAttention(tf.keras.layers.Layer):\n",
    "    def __init__(self, units):\n",
    "        super(BahdanauAttention, self).__init__()\n",
    "        self.w_dec = tf.keras.layers.Dense(units)\n",
    "        self.w_enc = tf.keras.layers.Dense(units)\n",
    "        self.w_com = tf.keras.layers.Dense(1)\n",
    "    \n",
    "    def call(self, h_enc, h_dec):\n",
    "        # h_enc shape: [batch x length x units]\n",
    "        # h_dec shape: [batch x units]\n",
    "\n",
    "        h_enc = self.w_enc(h_enc)\n",
    "        h_dec = tf.expand_dims(h_dec, 1)\n",
    "        h_dec = self.w_dec(h_dec)\n",
    "\n",
    "        score = self.w_com(tf.nn.tanh(h_dec + h_enc))\n",
    "        \n",
    "        attn = tf.nn.softmax(score, axis=1)\n",
    "\n",
    "        context_vec = attn * h_enc\n",
    "        context_vec = tf.reduce_sum(context_vec, axis=1)\n",
    "\n",
    "        return context_vec, attn"
   ]
  },
  {
   "cell_type": "code",
   "execution_count": 26,
   "id": "221f521c",
   "metadata": {},
   "outputs": [],
   "source": [
    "class Encoder(tf.keras.Model):\n",
    "    def __init__(self, vocab_size, embedding_dim, enc_units):\n",
    "        super(Encoder, self).__init__()\n",
    "        \n",
    "        self.enc_units = enc_units\n",
    "        self.embedding = tf.keras.layers.Embedding(vocab_size, embedding_dim)\n",
    "        self.gru = tf.keras.layers.GRU(enc_units,\n",
    "                                       return_sequences=True)\n",
    "        \n",
    "    def call(self, x):\n",
    "        out = self.embedding(x)\n",
    "        out = self.gru(out)\n",
    "        \n",
    "        return out"
   ]
  },
  {
   "cell_type": "code",
   "execution_count": 27,
   "id": "29f7d6be",
   "metadata": {},
   "outputs": [],
   "source": [
    "class Decoder(tf.keras.Model):\n",
    "    def __init__(self, vocab_size, embedding_dim, dec_units):\n",
    "        super(Decoder, self).__init__()\n",
    "        self.dec_units = dec_units\n",
    "        self.embedding = tf.keras.layers.Embedding(vocab_size, embedding_dim)\n",
    "        self.gru = tf.keras.layers.GRU(dec_units,\n",
    "                                       return_sequences=True,\n",
    "                                       return_state=True)\n",
    "        self.fc = tf.keras.layers.Dense(vocab_size)\n",
    "\n",
    "        self.attention = BahdanauAttention(self.dec_units)\n",
    "\n",
    "    def call(self, x, h_dec, enc_out):\n",
    "        context_vec, attn = self.attention(enc_out, h_dec)\n",
    "\n",
    "        out = self.embedding(x)\n",
    "        out = tf.concat([tf.expand_dims(context_vec, 1), out], axis=-1)\n",
    "        \n",
    "        out, h_dec = self.gru(out)\n",
    "        out = tf.reshape(out, (-1, out.shape[2]))\n",
    "        out = self.fc(out)\n",
    "\n",
    "        return out, h_dec, attn"
   ]
  },
  {
   "cell_type": "code",
   "execution_count": 28,
   "id": "99bf3eb3",
   "metadata": {},
   "outputs": [],
   "source": [
    "SRC_VOCAB_SIZE = len(tokenizer_kor.index_word) + 1\n",
    "TGT_VOCAB_SIZE = len(tokenizer_eng.index_word) + 1\n",
    "\n",
    "units         = 512\n",
    "embedding_dim = 256\n",
    "\n",
    "encoder = Encoder(SRC_VOCAB_SIZE, embedding_dim, units)\n",
    "decoder = Decoder(TGT_VOCAB_SIZE, embedding_dim, units)"
   ]
  },
  {
   "cell_type": "code",
   "execution_count": 29,
   "id": "1ba9f5e8",
   "metadata": {},
   "outputs": [],
   "source": [
    "optimizer = tf.keras.optimizers.Adam()\n",
    "loss_object = tf.keras.losses.SparseCategoricalCrossentropy(from_logits=True, reduction='none')\n",
    "\n",
    "def loss_function(real, pred):\n",
    "    mask = tf.math.logical_not(tf.math.equal(real, 0))\n",
    "    loss = loss_object(real, pred)\n",
    "    \n",
    "    mask = tf.cast(mask, dtype=loss.dtype)\n",
    "    loss *= mask\n",
    "    \n",
    "    return tf.reduce_mean(loss)"
   ]
  },
  {
   "cell_type": "code",
   "execution_count": 30,
   "id": "66bca84f",
   "metadata": {},
   "outputs": [],
   "source": [
    "@tf.function\n",
    "def train_step(src, tgt, encoder, decoder, optimizer, dec_tok):\n",
    "    bsz = src.shape[0]\n",
    "    loss = 0\n",
    "\n",
    "    with tf.GradientTape() as tape:\n",
    "        enc_out = encoder(src)\n",
    "        h_dec = enc_out[:, -1]\n",
    "        \n",
    "        dec_src = tf.expand_dims([dec_tok.word_index['<start>']] * bsz, 1)\n",
    "\n",
    "        for t in range(1, tgt.shape[1]):\n",
    "            pred, h_dec, _ = decoder(dec_src, h_dec, enc_out)\n",
    "\n",
    "            loss += loss_function(tgt[:, t], pred)\n",
    "            dec_src = tf.expand_dims(tgt[:, t], 1)\n",
    "        \n",
    "    batch_loss = (loss / int(tgt.shape[1]))\n",
    "\n",
    "    variables = encoder.trainable_variables + decoder.trainable_variables\n",
    "    gradients = tape.gradient(loss, variables)\n",
    "    optimizer.apply_gradients(zip(gradients, variables))\n",
    "    \n",
    "    return batch_loss\n"
   ]
  },
  {
   "cell_type": "code",
   "execution_count": 31,
   "id": "cba370b3",
   "metadata": {},
   "outputs": [],
   "source": [
    "@tf.function\n",
    "def eval_step(src, tgt, encoder, decoder, dec_tok):\n",
    "    bsz = src.shape[0]\n",
    "    loss = 0\n",
    "\n",
    "    enc_out = encoder(src)\n",
    "\n",
    "    h_dec = enc_out[:, -1]\n",
    "    \n",
    "    dec_src = tf.expand_dims([dec_tok.word_index['<start>']] * bsz, 1)\n",
    "\n",
    "    for t in range(1, tgt.shape[1]):\n",
    "        pred, h_dec, _ = decoder(dec_src, h_dec, enc_out)\n",
    "\n",
    "        loss += loss_function(tgt[:, t], pred)\n",
    "        dec_src = tf.expand_dims(tgt[:, t], 1)\n",
    "        \n",
    "    batch_loss = (loss / int(tgt.shape[1]))\n",
    "    \n",
    "    return batch_loss"
   ]
  },
  {
   "cell_type": "code",
   "execution_count": 32,
   "id": "970a252a",
   "metadata": {},
   "outputs": [],
   "source": [
    "ds_train = tf.data.Dataset.from_tensor_slices((train_src, train_tgt))\n",
    "ds_test = tf.data.Dataset.from_tensor_slices((test_src, test_tgt))"
   ]
  },
  {
   "cell_type": "code",
   "execution_count": 33,
   "id": "c7763b1f",
   "metadata": {},
   "outputs": [
    {
     "name": "stderr",
     "output_type": "stream",
     "text": [
      "Epoch  1: 100%|██████████| 3827/3827 [10:54<00:00,  5.85it/s, Loss 3.5680]\n",
      "Test Epoch  1: 100%|██████████| 957/957 [01:12<00:00, 13.15it/s, Test Loss 3.5589]\n",
      "Epoch  2: 100%|██████████| 3827/3827 [09:54<00:00,  6.44it/s, Loss 3.5552]\n",
      "Test Epoch  2: 100%|██████████| 957/957 [00:48<00:00, 19.78it/s, Test Loss 3.5496]\n",
      "Epoch  3: 100%|██████████| 3827/3827 [09:45<00:00,  6.54it/s, Loss 3.5555]\n",
      "Test Epoch  3: 100%|██████████| 957/957 [00:48<00:00, 19.71it/s, Test Loss 3.5589]\n",
      "Epoch  4: 100%|██████████| 3827/3827 [09:45<00:00,  6.54it/s, Loss 3.5557]\n",
      "Test Epoch  4: 100%|██████████| 957/957 [00:48<00:00, 19.82it/s, Test Loss 3.5527]\n",
      "Epoch  5: 100%|██████████| 3827/3827 [10:18<00:00,  6.19it/s, Loss 3.5560]\n",
      "Test Epoch  5: 100%|██████████| 957/957 [00:48<00:00, 19.82it/s, Test Loss 3.5522]\n",
      "Epoch  6: 100%|██████████| 3827/3827 [09:44<00:00,  6.54it/s, Loss 3.5558]\n",
      "Test Epoch  6: 100%|██████████| 957/957 [00:48<00:00, 19.78it/s, Test Loss 3.5489]\n",
      "Epoch  7: 100%|██████████| 3827/3827 [09:44<00:00,  6.55it/s, Loss 3.5556]\n",
      "Test Epoch  7: 100%|██████████| 957/957 [00:47<00:00, 19.99it/s, Test Loss 3.5580]\n",
      "Epoch  8: 100%|██████████| 3827/3827 [09:43<00:00,  6.56it/s, Loss 3.5562]\n",
      "Test Epoch  8: 100%|██████████| 957/957 [00:48<00:00, 19.92it/s, Test Loss 3.5547]\n",
      "Epoch  9: 100%|██████████| 3827/3827 [09:42<00:00,  6.57it/s, Loss 3.5558]\n",
      "Test Epoch  9: 100%|██████████| 957/957 [00:47<00:00, 20.00it/s, Test Loss 3.5488]\n",
      "Epoch 10: 100%|██████████| 3827/3827 [10:16<00:00,  6.20it/s, Loss 3.5562]\n",
      "Test Epoch 10: 100%|██████████| 957/957 [01:27<00:00, 10.93it/s, Test Loss 3.5553] \n"
     ]
    }
   ],
   "source": [
    "import random\n",
    "\n",
    "EPOCHS = 10\n",
    "BATCH_SIZE=16\n",
    "\n",
    "\n",
    "ds_train= ds_train.shuffle(buffer_size=10000, reshuffle_each_iteration=True).batch(BATCH_SIZE)\n",
    "ds_test= ds_test.shuffle(buffer_size=10000, reshuffle_each_iteration=True).batch(BATCH_SIZE)\n",
    "\n",
    "\n",
    "test_loss_dict = dict()\n",
    "\n",
    "for epoch in range(EPOCHS):\n",
    "    total_loss = 0\n",
    "    \n",
    "    with tqdm(enumerate(ds_train), total=len(ds_train)) as t:\n",
    "        for (batch, (train_batch_src, train_batch_tgt)) in t:\n",
    "            batch_loss = train_step(train_batch_src,\n",
    "                                    train_batch_tgt,\n",
    "                                    encoder,\n",
    "                                    decoder,\n",
    "                                    optimizer,\n",
    "                                    tokenizer_eng)\n",
    "\n",
    "            total_loss += batch_loss\n",
    "\n",
    "            t.set_description_str('Epoch %2d' % (epoch + 1))\n",
    "            t.set_postfix_str('Loss %.4f' % (total_loss.numpy() / (batch + 1)))\n",
    "\n",
    "    test_loss = 0\n",
    "    \n",
    "\n",
    "    with tqdm(enumerate(ds_test), total=len(ds_test)) as t:\n",
    "        for (batch, (test_batch_src, test_batch_tgt)) in t:\n",
    "            test_batch_loss = eval_step(test_batch_src,\n",
    "                                        test_batch_tgt,\n",
    "                                        encoder,\n",
    "                                        decoder,\n",
    "                                        tokenizer_eng)\n",
    "\n",
    "            test_loss += test_batch_loss\n",
    "\n",
    "            t.set_description_str('Test Epoch %2d' % (epoch + 1))\n",
    "            t.set_postfix_str('Test Loss %.4f' % (test_loss.numpy() / (batch + 1)))\n",
    "\n",
    "    test_loss_dict[epoch] = test_loss\n",
    "    "
   ]
  },
  {
   "cell_type": "code",
   "execution_count": 64,
   "id": "531081bb",
   "metadata": {},
   "outputs": [],
   "source": [
    "import numpy as np\n",
    "\n",
    "def evaluate(sentence, encoder, decoder):\n",
    "    attention = np.zeros((train_tgt.shape[-1], train_src.shape[-1]))\n",
    "    \n",
    "    sentence = preprocess_sentence(sentence)\n",
    "    inputs = tokenizer_kor.texts_to_sequences([sentence.split()])\n",
    "    inputs = tf.keras.preprocessing.sequence.pad_sequences(inputs,\n",
    "                                                           maxlen=train_src.shape[-1],\n",
    "                                                           padding='post')\n",
    "\n",
    "    result = ''\n",
    "\n",
    "    enc_out = encoder(inputs)\n",
    "\n",
    "    dec_hidden = enc_out[:, -1]\n",
    "    dec_input = tf.expand_dims([tokenizer_eng.word_index['<start>']], 0)\n",
    "\n",
    "    for t in range(train_tgt.shape[-1]):\n",
    "        predictions, dec_hidden, attention_weights = decoder(dec_input,\n",
    "                                                             dec_hidden,\n",
    "                                                             enc_out)\n",
    "\n",
    "        attention_weights = tf.reshape(attention_weights, (-1, ))\n",
    "        attention[t] = attention_weights.numpy()\n",
    "        predicted_id = \\\n",
    "        tf.argmax(tf.math.softmax(predictions, axis=-1)[0]).numpy()\n",
    "\n",
    "        result += tokenizer_eng.index_word[predicted_id] + ' '\n",
    "\n",
    "        if tokenizer_eng.index_word[predicted_id] == '<end>':\n",
    "            return result, sentence, attention\n",
    "\n",
    "        dec_input = tf.expand_dims([predicted_id], 0)\n",
    "\n",
    "    return result, sentence, attention\n",
    "\n",
    "\n",
    "def plot_attention(attention, sentence, predicted_sentence):\n",
    "    fig = plt.figure(figsize=(10,10))\n",
    "    ax = fig.add_subplot(1, 1, 1)\n",
    "    ax.matshow(attention, cmap='viridis')\n",
    "\n",
    "    fontdict = {'fontsize': 14}\n",
    "\n",
    "    ax.set_xticklabels([''] + sentence, fontdict=fontdict, rotation=90)\n",
    "    ax.set_yticklabels([''] + predicted_sentence, fontdict=fontdict)\n",
    "\n",
    "    ax.xaxis.set_major_locator(ticker.MultipleLocator(1))\n",
    "    ax.yaxis.set_major_locator(ticker.MultipleLocator(1))\n",
    "\n",
    "    plt.show()\n",
    "\n",
    "\n",
    "def translate(sentence, encoder, decoder):\n",
    "    result, sentence, attention = evaluate(sentence, encoder, decoder)\n",
    "\n",
    "    print('Input: %s' % (sentence))\n",
    "    print('Predicted translation: {}'.format(result))\n",
    "    \n",
    "    # attention = attention[:len(result.split()), :len(sentence.split())]\n",
    "    # plot_attention(attention, sentence.split(), result.split(' '))\n",
    "\n",
    "\n"
   ]
  },
  {
   "cell_type": "code",
   "execution_count": 65,
   "id": "098de3d4",
   "metadata": {},
   "outputs": [
    {
     "name": "stdout",
     "output_type": "stream",
     "text": [
      "Input: 쉽고 간결하다 .\n",
      "Predicted translation: , , , , , , , , , , , , , , , , , , , , , , , , , , , , , , , , , , , , , , , , \n"
     ]
    }
   ],
   "source": [
    "translate(\"쉽고 간결하다.\", encoder, decoder)"
   ]
  },
  {
   "cell_type": "code",
   "execution_count": 66,
   "id": "a346b7fb",
   "metadata": {},
   "outputs": [
    {
     "name": "stdout",
     "output_type": "stream",
     "text": [
      "Input: 일곱 명이 사망하였다 .\n",
      "Predicted translation: , , , , , , , , , , , , , , , , , , , , , , , , , , , , , , , , , , , , , , , , \n"
     ]
    }
   ],
   "source": [
    "translate(\"일곱 명이 사망하였다.\", encoder, decoder)"
   ]
  },
  {
   "cell_type": "code",
   "execution_count": 67,
   "id": "1093b320",
   "metadata": {},
   "outputs": [
    {
     "name": "stdout",
     "output_type": "stream",
     "text": [
      "Input: 오바마는 대통령이다 .\n",
      "Predicted translation: , , , , , , , , , , , , , , , , , , , , , , , , , , , , , , , , , , , , , , , , \n"
     ]
    }
   ],
   "source": [
    "translate(\"오바마는 대통령이다.\", encoder, decoder)"
   ]
  },
  {
   "cell_type": "markdown",
   "id": "1a8f6a37",
   "metadata": {},
   "source": [
    "## 회고\n",
    "\n",
    "- 메모리 할당 문제가 지속적으로 발생해서 데이터를 줄이거나 모델 크기를 줄이는 시도를 계속해야했다.\n",
    "- 최종적으로 학습이 끝난 번역모델이 잘 작동하지 않았다."
   ]
  }
 ],
 "metadata": {
  "kernelspec": {
   "display_name": "Python 3 (ipykernel)",
   "language": "python",
   "name": "python3"
  },
  "language_info": {
   "codemirror_mode": {
    "name": "ipython",
    "version": 3
   },
   "file_extension": ".py",
   "mimetype": "text/x-python",
   "name": "python",
   "nbconvert_exporter": "python",
   "pygments_lexer": "ipython3",
   "version": "3.9.7"
  }
 },
 "nbformat": 4,
 "nbformat_minor": 5
}
