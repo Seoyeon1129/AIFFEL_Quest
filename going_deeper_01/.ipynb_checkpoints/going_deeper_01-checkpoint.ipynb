{
 "cells": [
  {
   "cell_type": "markdown",
   "id": "ec599aef",
   "metadata": {},
   "source": [
    "## SentencePiece 모델 학습"
   ]
  },
  {
   "cell_type": "code",
   "execution_count": 1,
   "id": "b8a24460",
   "metadata": {},
   "outputs": [
    {
     "name": "stdout",
     "output_type": "stream",
     "text": [
      "Data Size: 94123\n",
      "Example:\n",
      ">> 개인용 컴퓨터 사용의 상당 부분은 \"이것보다 뛰어날 수 있느냐?\"\n",
      ">> 북한의 핵무기 계획을 포기하도록 하려는 압력이 거세지고 있는 가운데, 일본과 북한의 외교관들이 외교 관계를 정상화하려는 회담을 재개했다.\n",
      ">> \"경호 로보트가 침입자나 화재를 탐지하기 위해서 개인적으로, 그리고 전문적으로 사용되고 있습니다.\"\n",
      ">> 수자원부 당국은 논란이 되고 있고, 막대한 비용이 드는 이 사업에 대해 내년에 건설을 시작할 계획이다.\n",
      ">> 또한 근력 운동은 활발하게 걷는 것이나 최소한 20분 동안 뛰는 것과 같은 유산소 활동에서 얻는 운동 효과를 심장과 폐에 주지 않기 때문에, 연구학자들은 근력 운동이 심장에 큰 영향을 미치는지 여부에 대해 논쟁을 해왔다.\n"
     ]
    }
   ],
   "source": [
    "import os\n",
    "\n",
    "import tensorflow as tf\n",
    "import numpy as np\n",
    "\n",
    "path_to_file = os.getenv('HOME')+'/aiffel/sp_tokenizer/data/korean-english-park.train.ko'\n",
    "\n",
    "with open(path_to_file, \"r\") as f:\n",
    "    raw = f.read().splitlines()\n",
    "\n",
    "print(\"Data Size:\", len(raw))\n",
    "\n",
    "print(\"Example:\")\n",
    "for sen in raw[0:100][::20]: print(\">>\", sen)"
   ]
  },
  {
   "cell_type": "code",
   "execution_count": 2,
   "id": "3c9de169",
   "metadata": {},
   "outputs": [],
   "source": [
    "cleaned_corpus = list(set(raw))"
   ]
  },
  {
   "cell_type": "code",
   "execution_count": 3,
   "id": "31438c5d",
   "metadata": {},
   "outputs": [],
   "source": [
    "max_len = 150\n",
    "min_len = 10\n",
    "\n",
    "# 길이 조건에 맞는 문장만 선택합니다.\n",
    "filtered_corpus = [s for s in cleaned_corpus if (len(s) < max_len) & (len(s) >= min_len)]"
   ]
  },
  {
   "cell_type": "code",
   "execution_count": 4,
   "id": "fa3ec4a2",
   "metadata": {},
   "outputs": [
    {
     "name": "stderr",
     "output_type": "stream",
     "text": [
      "sentencepiece_trainer.cc(177) LOG(INFO) Running command: --input=/aiffel/aiffel/sp_tokenizer/data/korean-english-park.train.ko.temp --model_prefix=korean_spm --vocab_size=8000\n",
      "sentencepiece_trainer.cc(77) LOG(INFO) Starts training with : \n",
      "trainer_spec {\n",
      "  input: /aiffel/aiffel/sp_tokenizer/data/korean-english-park.train.ko.temp\n",
      "  input_format: \n",
      "  model_prefix: korean_spm\n",
      "  model_type: UNIGRAM\n",
      "  vocab_size: 8000\n",
      "  self_test_sample_size: 0\n",
      "  character_coverage: 0.9995\n",
      "  input_sentence_size: 0\n",
      "  shuffle_input_sentence: 1\n",
      "  seed_sentencepiece_size: 1000000\n",
      "  shrinking_factor: 0.75\n",
      "  max_sentence_length: 4192\n",
      "  num_threads: 16\n",
      "  num_sub_iterations: 2\n",
      "  max_sentencepiece_length: 16\n",
      "  split_by_unicode_script: 1\n",
      "  split_by_number: 1\n",
      "  split_by_whitespace: 1\n",
      "  split_digits: 0\n",
      "  treat_whitespace_as_suffix: 0\n",
      "  allow_whitespace_only_pieces: 0\n",
      "  required_chars: \n",
      "  byte_fallback: 0\n",
      "  vocabulary_output_piece_score: 1\n",
      "  train_extremely_large_corpus: 0\n",
      "  hard_vocab_limit: 1\n",
      "  use_all_vocab: 0\n",
      "  unk_id: 0\n",
      "  bos_id: 1\n",
      "  eos_id: 2\n",
      "  pad_id: -1\n",
      "  unk_piece: <unk>\n",
      "  bos_piece: <s>\n",
      "  eos_piece: </s>\n",
      "  pad_piece: <pad>\n",
      "  unk_surface:  ⁇ \n",
      "}\n",
      "normalizer_spec {\n",
      "  name: nmt_nfkc\n",
      "  add_dummy_prefix: 1\n",
      "  remove_extra_whitespaces: 1\n",
      "  escape_whitespaces: 1\n",
      "  normalization_rule_tsv: \n",
      "}\n",
      "denormalizer_spec {}\n",
      "trainer_interface.cc(329) LOG(INFO) SentenceIterator is not specified. Using MultiFileSentenceIterator.\n",
      "trainer_interface.cc(178) LOG(INFO) Loading corpus: /aiffel/aiffel/sp_tokenizer/data/korean-english-park.train.ko.temp\n",
      "trainer_interface.cc(385) LOG(INFO) Loaded all 76908 sentences\n",
      "trainer_interface.cc(400) LOG(INFO) Adding meta_piece: <unk>\n",
      "trainer_interface.cc(400) LOG(INFO) Adding meta_piece: <s>\n",
      "trainer_interface.cc(400) LOG(INFO) Adding meta_piece: </s>\n",
      "trainer_interface.cc(405) LOG(INFO) Normalizing sentences...\n",
      "trainer_interface.cc(466) LOG(INFO) all chars count=4996369\n",
      "trainer_interface.cc(477) LOG(INFO) Done: 99.95% characters are covered.\n",
      "trainer_interface.cc(487) LOG(INFO) Alphabet size=1317\n",
      "trainer_interface.cc(488) LOG(INFO) Final character coverage=0.9995\n",
      "trainer_interface.cc(520) LOG(INFO) Done! preprocessed 76908 sentences.\n",
      "unigram_model_trainer.cc(139) LOG(INFO) Making suffix array...\n",
      "unigram_model_trainer.cc(143) LOG(INFO) Extracting frequent sub strings...\n",
      "unigram_model_trainer.cc(194) LOG(INFO) Initialized 174340 seed sentencepieces\n",
      "trainer_interface.cc(526) LOG(INFO) Tokenizing input sentences with whitespace: 76908\n",
      "trainer_interface.cc(537) LOG(INFO) Done! 237965\n",
      "unigram_model_trainer.cc(489) LOG(INFO) Using 237965 sentences for EM training\n",
      "unigram_model_trainer.cc(505) LOG(INFO) EM sub_iter=0 size=92555 obj=14.853 num_tokens=523272 num_tokens/piece=5.65363\n",
      "unigram_model_trainer.cc(505) LOG(INFO) EM sub_iter=1 size=82083 obj=13.516 num_tokens=525776 num_tokens/piece=6.40542\n",
      "unigram_model_trainer.cc(505) LOG(INFO) EM sub_iter=0 size=61555 obj=13.5533 num_tokens=546907 num_tokens/piece=8.88485\n",
      "unigram_model_trainer.cc(505) LOG(INFO) EM sub_iter=1 size=61506 obj=13.5101 num_tokens=547350 num_tokens/piece=8.89913\n",
      "unigram_model_trainer.cc(505) LOG(INFO) EM sub_iter=0 size=46126 obj=13.6926 num_tokens=575369 num_tokens/piece=12.4739\n",
      "unigram_model_trainer.cc(505) LOG(INFO) EM sub_iter=1 size=46126 obj=13.6493 num_tokens=575466 num_tokens/piece=12.476\n",
      "unigram_model_trainer.cc(505) LOG(INFO) EM sub_iter=0 size=34594 obj=13.8894 num_tokens=606014 num_tokens/piece=17.5179\n",
      "unigram_model_trainer.cc(505) LOG(INFO) EM sub_iter=1 size=34594 obj=13.8387 num_tokens=606012 num_tokens/piece=17.5178\n",
      "unigram_model_trainer.cc(505) LOG(INFO) EM sub_iter=0 size=25945 obj=14.1301 num_tokens=637532 num_tokens/piece=24.5724\n",
      "unigram_model_trainer.cc(505) LOG(INFO) EM sub_iter=1 size=25945 obj=14.0747 num_tokens=637568 num_tokens/piece=24.5738\n",
      "unigram_model_trainer.cc(505) LOG(INFO) EM sub_iter=0 size=19458 obj=14.4091 num_tokens=670960 num_tokens/piece=34.4825\n",
      "unigram_model_trainer.cc(505) LOG(INFO) EM sub_iter=1 size=19458 obj=14.3468 num_tokens=670999 num_tokens/piece=34.4845\n",
      "unigram_model_trainer.cc(505) LOG(INFO) EM sub_iter=0 size=14593 obj=14.7196 num_tokens=705636 num_tokens/piece=48.3544\n",
      "unigram_model_trainer.cc(505) LOG(INFO) EM sub_iter=1 size=14593 obj=14.648 num_tokens=705645 num_tokens/piece=48.355\n",
      "unigram_model_trainer.cc(505) LOG(INFO) EM sub_iter=0 size=10944 obj=15.0875 num_tokens=741620 num_tokens/piece=67.765\n",
      "unigram_model_trainer.cc(505) LOG(INFO) EM sub_iter=1 size=10944 obj=15.007 num_tokens=741624 num_tokens/piece=67.7654\n",
      "unigram_model_trainer.cc(505) LOG(INFO) EM sub_iter=0 size=8800 obj=15.3757 num_tokens=769363 num_tokens/piece=87.4276\n",
      "unigram_model_trainer.cc(505) LOG(INFO) EM sub_iter=1 size=8800 obj=15.307 num_tokens=769367 num_tokens/piece=87.4281\n",
      "trainer_interface.cc(615) LOG(INFO) Saving model: korean_spm.model\n",
      "trainer_interface.cc(626) LOG(INFO) Saving vocabs: korean_spm.vocab\n"
     ]
    },
    {
     "name": "stdout",
     "output_type": "stream",
     "text": [
      "-rw-r--r-- 1 root root 376816 Nov  7 03:25 korean_spm.model\r\n",
      "-rw-r--r-- 1 root root 146213 Nov  7 03:25 korean_spm.vocab\r\n"
     ]
    }
   ],
   "source": [
    "import sentencepiece as spm\n",
    "\n",
    "temp_file = os.getenv('HOME')+'/aiffel/sp_tokenizer/data/korean-english-park.train.ko.temp'\n",
    "\n",
    "vocab_size = 8000\n",
    "\n",
    "with open(temp_file, 'w') as f:\n",
    "    for row in filtered_corpus:   # 이전에 나왔던 정제했던 corpus를 활용해서 진행해야 합니다.\n",
    "        f.write(str(row) + '\\n')\n",
    "\n",
    "spm.SentencePieceTrainer.Train(\n",
    "    '--input={} --model_prefix=korean_spm --vocab_size={}'.format(temp_file, vocab_size)    \n",
    ")\n",
    "#위 Train에서  --model_type = unigram이 디폴트 적용되어 있습니다. --model_type = bpe로 옵션을 주어 변경할 수 있습니다.\n",
    "\n",
    "!ls -l korean_spm*"
   ]
  },
  {
   "cell_type": "code",
   "execution_count": 5,
   "id": "fcf00f49",
   "metadata": {},
   "outputs": [
    {
     "name": "stdout",
     "output_type": "stream",
     "text": [
      "[1243, 11, 302, 7, 3608, 11, 287, 38, 3]\n",
      "['▁아버지', '가', '방', '에', '들어', '가', '신', '다', '.']\n",
      "아버지가방에들어가신다.\n"
     ]
    }
   ],
   "source": [
    "s = spm.SentencePieceProcessor()\n",
    "s.Load('korean_spm.model')\n",
    "\n",
    "# SentencePiece를 활용한 sentence -> encoding\n",
    "tokensIDs = s.EncodeAsIds('아버지가방에들어가신다.')\n",
    "print(tokensIDs)\n",
    "\n",
    "# SentencePiece를 활용한 sentence -> encoded pieces\n",
    "print(s.SampleEncodeAsPieces('아버지가방에들어가신다.',1, 0.0))\n",
    "\n",
    "# SentencePiece를 활용한 encoding -> sentence 복원\n",
    "print(s.DecodeIds(tokensIDs))"
   ]
  },
  {
   "cell_type": "code",
   "execution_count": 6,
   "id": "a1e49638",
   "metadata": {},
   "outputs": [
    {
     "name": "stdout",
     "output_type": "stream",
     "text": [
      "['▁너무', '기', '대', '안', '하고', '갔', '나', '재', '밌', '게', '봤', '다']\n",
      "['▁', '굉', '장', '히', '잘', '만', '든', '수', '작', '지', '루', '할', '틈', '이', '없', '음']\n",
      "['▁개', 'O', 'O', 'O', '같은', '영화', '▁', '뭐', '가', '무', '섭', '다', '는', '건', '지', 'ᅳᅳ', '/']\n",
      "['▁너무', '합니다', '이', '무', '슨', '.', '.', '유', '치', '찬', '란', '.', '.', '오', '글', '거', '려', '못', '보', '겠', '네', '요']\n",
      "['▁개봉', '했을', '때', '부터', '▁지금', '까지', '▁마음', '이', '답', '답', '하거나', '▁힘들', '때', '▁이', '영화', '▁보고', '있', '어', '요', '▁그', '때', '마다', '▁심', '적인', '▁위로', '를', '▁받을', '수', '있는', '영화', '같', '아', '요', '▁장면', '▁하나', '하', '나', '가', '▁너무', '예', '쁘', '고', '▁마음', '에', '▁남아', '서', '▁진', '한', '▁여', '운', '까지', '▁주는', '영화', '▁감사', '합니다']\n"
     ]
    }
   ],
   "source": [
    "print(s.SampleEncodeAsPieces('너무기대안하고갔나재밌게봤다',1, 0.0))\n",
    "print(s.SampleEncodeAsPieces('굉장히잘만든수작지루할틈이없음',1, 0.0))\n",
    "print(s.SampleEncodeAsPieces('ㄱㅐOOO같은영화 뭐가무섭다는건지ㅡㅡ/',1, 0.0))\n",
    "print(s.SampleEncodeAsPieces('ㄴㅓ무합니다이무슨..유치찬란..오글거려못보겠네요',1, 0.0))\n",
    "print(s.SampleEncodeAsPieces('개봉했을때부터 지금까지 마음이답답하거나 힘들때 이영화 보고있어요 그때마다 심적인 위로를 받을수있는영화같아요 장면 하나하나가 너무예쁘고 마음에 남아서 진한 여운까지 주는영화 감사합니다',1, 0.0))"
   ]
  },
  {
   "cell_type": "markdown",
   "id": "e63e44cf",
   "metadata": {},
   "source": [
    "첫번째, 두번째 문장을 보면 띄어쓰기가 안 된 경우 형태소 분석이 깔끔하게 잘 되지 않는 것으로 보인다."
   ]
  },
  {
   "cell_type": "markdown",
   "id": "ccd091c2",
   "metadata": {},
   "source": [
    "## Tokenizer 함수 작성"
   ]
  },
  {
   "cell_type": "code",
   "execution_count": 10,
   "id": "86050283",
   "metadata": {},
   "outputs": [],
   "source": [
    "def sp_tokenize(s, corpus): \n",
    "\n",
    "    tensor = []\n",
    "\n",
    "    for sen in corpus:\n",
    "        tensor.append(s.EncodeAsIds(sen))\n",
    "\n",
    "    with open(\"./korean_spm.vocab\", 'r') as f:\n",
    "        vocab = f.readlines()\n",
    "\n",
    "    word_index = {}\n",
    "    index_word = {}\n",
    "\n",
    "    for idx, line in enumerate(vocab):\n",
    "        word = line.split(\"\\t\")[0]\n",
    "\n",
    "        word_index.update({word:idx})\n",
    "        index_word.update({idx:word})\n",
    "\n",
    "    tensor = tf.keras.preprocessing.sequence.pad_sequences(tensor, padding='post')\n",
    "\n",
    "    return tensor, word_index, index_word"
   ]
  },
  {
   "cell_type": "markdown",
   "id": "1fc82e2f",
   "metadata": {},
   "source": [
    "## 네이버 영화리뷰 감정 분석 문제에 SentencePiece 적용해 보기"
   ]
  },
  {
   "cell_type": "markdown",
   "id": "97606b75",
   "metadata": {},
   "source": [
    "### 데이터 불러오기, 중복 및 결측치 제거"
   ]
  },
  {
   "cell_type": "code",
   "execution_count": 11,
   "id": "0329f392",
   "metadata": {},
   "outputs": [],
   "source": [
    "import pandas as pd\n",
    "from tqdm import tqdm\n",
    "\n",
    "train_path = 'ratings_train.txt'\n",
    "test_path = 'ratings_test.txt'\n",
    "df_train = pd.DataFrame(columns=['review', 'label'])\n",
    "df_test = pd.DataFrame(columns=['review', 'label'])\n"
   ]
  },
  {
   "cell_type": "code",
   "execution_count": 12,
   "id": "ff59c47f",
   "metadata": {},
   "outputs": [
    {
     "name": "stderr",
     "output_type": "stream",
     "text": [
      "150000it [09:03, 276.18it/s]\n"
     ]
    }
   ],
   "source": [
    "# 텍스트 불러오는 과정에서 정규화\n",
    "\n",
    "import re\n",
    "\n",
    "def cleaning_text(text, punc, regex):\n",
    "\n",
    "    for p in punc:\n",
    "        text = text.replace(p, \" \" + p + \" \")\n",
    "\n",
    "    text = re.sub(regex, \" \", text)\n",
    "\n",
    "    return text\n",
    "\n",
    "with open(train_path, 'r') as f:\n",
    "    raw = f.readlines()\n",
    "    for index, data in tqdm(enumerate(raw)):\n",
    "        data = data.split()\n",
    "        sentence = ' '.join(data[1:-1])\n",
    "        sentence = cleaning_text(sentence, [\",\", \"?\"], \"([^a-zA-Z0-9,?\\n\\uAC00-\\uD7A3])\")\n",
    "        label = data[-1]\n",
    "        df_train.loc[index, 'review'] = sentence\n",
    "        df_train.loc[index, 'label'] = label\n"
   ]
  },
  {
   "cell_type": "code",
   "execution_count": 13,
   "id": "e5afbc2a",
   "metadata": {},
   "outputs": [
    {
     "data": {
      "text/html": [
       "<div>\n",
       "<style scoped>\n",
       "    .dataframe tbody tr th:only-of-type {\n",
       "        vertical-align: middle;\n",
       "    }\n",
       "\n",
       "    .dataframe tbody tr th {\n",
       "        vertical-align: top;\n",
       "    }\n",
       "\n",
       "    .dataframe thead th {\n",
       "        text-align: right;\n",
       "    }\n",
       "</style>\n",
       "<table border=\"1\" class=\"dataframe\">\n",
       "  <thead>\n",
       "    <tr style=\"text-align: right;\">\n",
       "      <th></th>\n",
       "      <th>review</th>\n",
       "      <th>label</th>\n",
       "    </tr>\n",
       "  </thead>\n",
       "  <tbody>\n",
       "    <tr>\n",
       "      <th>0</th>\n",
       "      <td>아 더빙   진짜 짜증나네요 목소리</td>\n",
       "      <td>0</td>\n",
       "    </tr>\n",
       "    <tr>\n",
       "      <th>1</th>\n",
       "      <td>흠   포스터보고 초딩영화줄    오버연기조차 가볍지 않구나</td>\n",
       "      <td>1</td>\n",
       "    </tr>\n",
       "    <tr>\n",
       "      <th>2</th>\n",
       "      <td>너무재밓었다그래서보는것을추천한다</td>\n",
       "      <td>0</td>\n",
       "    </tr>\n",
       "    <tr>\n",
       "      <th>3</th>\n",
       "      <td>교도소 이야기구먼   솔직히 재미는 없다  평점 조정</td>\n",
       "      <td>0</td>\n",
       "    </tr>\n",
       "    <tr>\n",
       "      <th>4</th>\n",
       "      <td>사이몬페그의 익살스런 연기가 돋보였던 영화 스파이더맨에서 늙어보이기만 했던 커스틴 ...</td>\n",
       "      <td>1</td>\n",
       "    </tr>\n",
       "  </tbody>\n",
       "</table>\n",
       "</div>"
      ],
      "text/plain": [
       "                                              review label\n",
       "0                                아 더빙   진짜 짜증나네요 목소리     0\n",
       "1                  흠   포스터보고 초딩영화줄    오버연기조차 가볍지 않구나     1\n",
       "2                                  너무재밓었다그래서보는것을추천한다     0\n",
       "3                      교도소 이야기구먼   솔직히 재미는 없다  평점 조정     0\n",
       "4  사이몬페그의 익살스런 연기가 돋보였던 영화 스파이더맨에서 늙어보이기만 했던 커스틴 ...     1"
      ]
     },
     "execution_count": 13,
     "metadata": {},
     "output_type": "execute_result"
    }
   ],
   "source": [
    "df_train.head()"
   ]
  },
  {
   "cell_type": "code",
   "execution_count": 14,
   "id": "b2b50ed3",
   "metadata": {},
   "outputs": [
    {
     "name": "stdout",
     "output_type": "stream",
     "text": [
      "145596\n"
     ]
    }
   ],
   "source": [
    "# 중복값 제거\n",
    "\n",
    "df_train.drop_duplicates(subset=['review'], keep='first', inplace=True, ignore_index=True)\n",
    "print(len(df_train))"
   ]
  },
  {
   "cell_type": "code",
   "execution_count": 15,
   "id": "8a5dbcc5",
   "metadata": {},
   "outputs": [
    {
     "name": "stderr",
     "output_type": "stream",
     "text": [
      "50000it [01:06, 755.00it/s] \n"
     ]
    }
   ],
   "source": [
    "with open(test_path, 'r') as f:\n",
    "    raw = f.readlines()\n",
    "    for index, data in tqdm(enumerate(raw)):\n",
    "        data = data.split()\n",
    "        sentence = ' '.join(data[1:-1])\n",
    "        sentence = cleaning_text(sentence, [\",\", \"?\"], \"([^a-zA-Z0-9,?\\n\\uAC00-\\uD7A3])\")\n",
    "        label = data[-1]\n",
    "        df_test.loc[index, 'review'] = sentence\n",
    "        df_test.loc[index, 'label'] = label"
   ]
  },
  {
   "cell_type": "code",
   "execution_count": 16,
   "id": "1eda0392",
   "metadata": {},
   "outputs": [
    {
     "data": {
      "text/html": [
       "<div>\n",
       "<style scoped>\n",
       "    .dataframe tbody tr th:only-of-type {\n",
       "        vertical-align: middle;\n",
       "    }\n",
       "\n",
       "    .dataframe tbody tr th {\n",
       "        vertical-align: top;\n",
       "    }\n",
       "\n",
       "    .dataframe thead th {\n",
       "        text-align: right;\n",
       "    }\n",
       "</style>\n",
       "<table border=\"1\" class=\"dataframe\">\n",
       "  <thead>\n",
       "    <tr style=\"text-align: right;\">\n",
       "      <th></th>\n",
       "      <th>review</th>\n",
       "      <th>label</th>\n",
       "    </tr>\n",
       "  </thead>\n",
       "  <tbody>\n",
       "    <tr>\n",
       "      <th>0</th>\n",
       "      <td>굳</td>\n",
       "      <td>1</td>\n",
       "    </tr>\n",
       "    <tr>\n",
       "      <th>1</th>\n",
       "      <td>GDNTOPCLASSINTHECLUB</td>\n",
       "      <td>0</td>\n",
       "    </tr>\n",
       "    <tr>\n",
       "      <th>2</th>\n",
       "      <td>뭐야 이 평점들은     나쁘진 않지만 10점 짜리는 더더욱 아니잖아</td>\n",
       "      <td>0</td>\n",
       "    </tr>\n",
       "    <tr>\n",
       "      <th>3</th>\n",
       "      <td>지루하지는 않은데 완전 막장임    돈주고 보기에는</td>\n",
       "      <td>0</td>\n",
       "    </tr>\n",
       "    <tr>\n",
       "      <th>4</th>\n",
       "      <td>3D만 아니었어도 별 다섯 개 줬을텐데   왜 3D로 나와서 제 심기를 불편하게 하...</td>\n",
       "      <td>0</td>\n",
       "    </tr>\n",
       "  </tbody>\n",
       "</table>\n",
       "</div>"
      ],
      "text/plain": [
       "                                              review label\n",
       "0                                                굳       1\n",
       "1                               GDNTOPCLASSINTHECLUB     0\n",
       "2             뭐야 이 평점들은     나쁘진 않지만 10점 짜리는 더더욱 아니잖아     0\n",
       "3                   지루하지는 않은데 완전 막장임    돈주고 보기에는         0\n",
       "4  3D만 아니었어도 별 다섯 개 줬을텐데   왜 3D로 나와서 제 심기를 불편하게 하...     0"
      ]
     },
     "execution_count": 16,
     "metadata": {},
     "output_type": "execute_result"
    }
   ],
   "source": [
    "df_test.head()"
   ]
  },
  {
   "cell_type": "code",
   "execution_count": 43,
   "id": "c973af82",
   "metadata": {},
   "outputs": [],
   "source": [
    "df_test.drop_duplicates(subset=['review'], keep='first', inplace=True, ignore_index=True)"
   ]
  },
  {
   "cell_type": "code",
   "execution_count": 18,
   "id": "7d852068",
   "metadata": {},
   "outputs": [
    {
     "name": "stdout",
     "output_type": "stream",
     "text": [
      "49008\n"
     ]
    }
   ],
   "source": [
    "print(len(df_test))"
   ]
  },
  {
   "cell_type": "code",
   "execution_count": 19,
   "id": "a6ac7608",
   "metadata": {},
   "outputs": [
    {
     "name": "stdout",
     "output_type": "stream",
     "text": [
      "0\n",
      "0\n"
     ]
    }
   ],
   "source": [
    "# 결측값 제거\n",
    "print(np.sum(df_train.isna().values))\n",
    "print(np.sum(df_test.isna().values))"
   ]
  },
  {
   "cell_type": "code",
   "execution_count": 20,
   "id": "6e36eb72",
   "metadata": {},
   "outputs": [],
   "source": [
    "X_train = df_train['review'].values\n",
    "y_train = df_train['label'].values\n",
    "X_test = df_test['review'].values\n",
    "y_test = df_test['label'].values"
   ]
  },
  {
   "cell_type": "code",
   "execution_count": 21,
   "id": "c1a87723",
   "metadata": {},
   "outputs": [
    {
     "data": {
      "text/plain": [
       "(194604,)"
      ]
     },
     "execution_count": 21,
     "metadata": {},
     "output_type": "execute_result"
    }
   ],
   "source": [
    "X = np.concatenate([X_train, X_test])\n",
    "X.shape"
   ]
  },
  {
   "cell_type": "code",
   "execution_count": 22,
   "id": "24a7360b",
   "metadata": {},
   "outputs": [
    {
     "name": "stdout",
     "output_type": "stream",
     "text": [
      "문장의 최단 길이: 0\n",
      "문장의 최장 길이: 177\n",
      "문장의 평균 길이: 91\n"
     ]
    },
    {
     "data": {
      "image/png": "[encoded data removed]",
      "text/plain": [
       "<Figure size 432x288 with 1 Axes>"
      ]
     },
     "metadata": {
      "needs_background": "light"
     },
     "output_type": "display_data"
    }
   ],
   "source": [
    "import matplotlib.pyplot as plt\n",
    "\n",
    "min_len = 999\n",
    "max_len = 0\n",
    "sum_len = 0\n",
    "\n",
    "for sen in X:\n",
    "    length = len(sen)\n",
    "    if min_len > length: min_len = length\n",
    "    if max_len < length: max_len = length\n",
    "    sum_len += length\n",
    "\n",
    "print(\"문장의 최단 길이:\", min_len)\n",
    "print(\"문장의 최장 길이:\", max_len)\n",
    "print(\"문장의 평균 길이:\", sum_len // len(cleaned_corpus))\n",
    "\n",
    "sentence_length = np.zeros((max_len), dtype=int)\n",
    "\n",
    "for sen in X:  \n",
    "    sentence_length[len(sen)-1] += 1\n",
    "\n",
    "plt.bar(range(max_len), sentence_length, width=1.0)\n",
    "plt.title(\"Sentence Length Distribution\")\n",
    "plt.show()"
   ]
  },
  {
   "cell_type": "markdown",
   "id": "540d648b",
   "metadata": {},
   "source": [
    "원본 데이터에 150자 정도의 제한이 있었던 것으로 보인다. 최대 길이는 150으로 정하겠다. 길이가 0 근처인 데이터를 살펴보겠다."
   ]
  },
  {
   "cell_type": "code",
   "execution_count": 23,
   "id": "d86d2c7b",
   "metadata": {},
   "outputs": [
    {
     "name": "stdout",
     "output_type": "stream",
     "text": [
      "\n",
      "\n",
      "아\n",
      "잼\n",
      "1\n",
      "4\n",
      "굿\n",
      "짱\n",
      "휴\n",
      " \n",
      "음\n",
      "즐\n",
      "굳\n",
      "네\n",
      "k\n",
      "쒯\n",
      "토\n",
      "O\n",
      "똥\n",
      "z\n",
      "헐\n",
      "삼\n",
      "꽝\n",
      "풉\n",
      "왜\n",
      "쉣\n",
      "봐\n",
      "뿌\n",
      "0\n",
      "d\n",
      "흥\n",
      "찜\n",
      "귯\n",
      "린\n",
      "시\n",
      "a\n",
      "c\n",
      "흠\n",
      "웅\n",
      "오\n",
      "9\n",
      "쩜\n",
      "애\n",
      "헝\n",
      "쨩\n",
      "f\n",
      "움\n",
      "업\n",
      "헉\n",
      "군\n",
      "b\n",
      "g\n",
      "올\n",
      "걍\n",
      "허\n",
      "쀍\n",
      "로\n",
      "갑\n",
      "즛\n",
      "킥\n",
      "함\n",
      "진\n",
      "잠\n",
      "곧\n",
      "h\n",
      "캬\n",
      "풋\n",
      "파\n",
      "웩\n",
      "꺅\n",
      "욜\n",
      "2\n",
      "핡\n",
      " \n",
      "굿\n",
      "헐\n",
      "d\n",
      "굳\n",
      "b\n",
      "하\n",
      "1\n",
      "음\n",
      "꿈\n",
      "뻑\n",
      "땡\n",
      "좀\n",
      "g\n",
      "짱\n",
      "뷁\n",
      "찜\n",
      "헷\n",
      "쨩\n",
      "3\n",
      "싫\n",
      "0\n",
      "우\n",
      "악\n",
      "쩝\n",
      "f\n",
      "오\n",
      "쒯\n",
      "h\n",
      "풋\n",
      "최고\n",
      "졸작\n",
      "대박\n",
      "버려\n",
      "망함\n",
      "굳굳\n",
      "안습\n",
      "망작\n",
      "  \n",
      "쵝오\n",
      "굿 \n",
      "별루\n",
      "씐나\n",
      "쓰렉\n",
      "볼만\n",
      "허접\n",
      "비추\n",
      "좋다\n",
      "아나\n",
      "야 \n",
      "역시\n",
      "오오\n",
      "평이\n",
      "지루\n",
      "오욈\n",
      "지송\n",
      "별로\n",
      "눈물\n",
      "당연\n",
      "쩔어\n",
      "별노\n",
      "몰입\n",
      "졸잼\n",
      "돋네\n",
      "오글\n",
      "이응\n",
      "첨봄\n",
      "최악\n",
      "잼씀\n",
      "ok\n",
      "유후\n",
      "감동\n",
      "gg\n",
      "조앙\n",
      "1점\n",
      "표절\n",
      "명작\n",
      "으휴\n",
      "에효\n",
      " 굿\n",
      "굿잡\n",
      "잼나\n",
      "10\n",
      "우왕\n",
      "거지\n",
      "굿굿\n",
      "좋음\n",
      "실망\n",
      "애이\n",
      "짱임\n",
      "전설\n",
      "mm\n",
      "와우\n",
      "등록\n",
      "하위\n",
      "그닥\n",
      "뭉클\n",
      "삼류\n",
      "HN\n",
      "윤하\n",
      "섹시\n",
      "실화\n",
      "머냐\n",
      "수작\n",
      "꿀잼\n",
      "동감\n",
      "dd\n",
      "굳 \n",
      "추천\n",
      "좋아\n",
      "55\n",
      "안봐\n",
      "개쩜\n",
      "올레\n",
      "난해\n",
      "뭐니\n",
      "뭥미\n",
      "쓰랙\n",
      "좇 \n",
      "오우\n",
      "미안\n",
      "걸작\n",
      "안봄\n",
      "넓어\n",
      " 하\n",
      "야동\n",
      "의리\n",
      "완벽\n",
      "뿌잉\n",
      "현실\n",
      "울뻔\n",
      "좋구나\n",
      "10점\n",
      "처 주\n",
      "솔직히\n",
      "4대강\n",
      "재밌다\n",
      "재밌군\n",
      "좋았다\n",
      "재미무\n",
      "보지마\n",
      "볼만함\n",
      "b b\n",
      "dsa\n",
      "웃스 \n",
      "   \n",
      "재밋네\n",
      "최고다\n",
      "재밌음\n",
      "쓰래기\n",
      "갑이다\n",
      "료코짱\n",
      "2빠닼\n",
      "만세 \n",
      "OOO\n",
      "아하 \n",
      "재및음\n",
      "좋아여\n",
      "재미쪙\n",
      "대박 \n",
      "에혀 \n",
      " ? \n",
      "3 6\n",
      "가보자\n",
      "bad\n",
      "신선함\n",
      "와우 \n",
      "즐  \n",
      "좋아요\n",
      "아  \n",
      "쨩이야\n",
      "굿  \n",
      "재밋다\n",
      "지못미\n",
      "나이스\n",
      "오짱 \n",
      "전형적\n",
      "원주율\n",
      "좋은테\n",
      "2 6\n",
      "보세요\n",
      "잼없다\n",
      "다섯개\n",
      "접어라\n",
      "쓰중쓰\n",
      "좋다 \n",
      "음  \n",
      "좋군 \n",
      "싸우자\n",
      "멋져 \n",
      "직인다\n",
      "짱짱짱\n",
      "별로임\n",
      "진리임\n",
      "감동적\n",
      "최고 \n",
      "재밌어\n",
      "걍 굿\n",
      "아시바\n",
      "팬이다\n",
      "별로다\n",
      "잼있다\n",
      "감동 \n",
      "잠온다\n",
      "의리 \n",
      "별로 \n",
      "썩었내\n",
      "짱멋짐\n",
      "성룡짱\n",
      "꿀잼 \n",
      "쵝오 \n",
      "괜찮네\n",
      "막장 \n",
      "억지 \n",
      "김서울\n",
      "철규찡\n",
      "무셔움\n",
      "지겨워\n",
      "꼭보셈\n",
      "쓰레기\n",
      "그다지\n",
      "훌륭함\n",
      "최고임\n",
      "꼭봐라\n",
      "일부심\n",
      "예스잼\n",
      "괜찮음\n",
      "짜증나\n",
      "쩝  \n",
      "코메디\n",
      "굳이다\n",
      "멋지다\n"
     ]
    }
   ],
   "source": [
    "def check_sentence_with_length(data, length):\n",
    "    count = 0\n",
    "    \n",
    "    for sen in data:\n",
    "        if len(sen) == length:\n",
    "            print(sen)\n",
    "            count += 1\n",
    "            if count > 100: return\n",
    "\n",
    "check_sentence_with_length(X, 0)\n",
    "check_sentence_with_length(X, 1)\n",
    "check_sentence_with_length(X, 2)\n",
    "check_sentence_with_length(X, 3)"
   ]
  },
  {
   "cell_type": "markdown",
   "id": "2d6256e3",
   "metadata": {},
   "source": [
    "길이가 1인 문장은 정보가 너무 적다. 길이가 2 이상인 경우부터 어느 정도의 긍정/부정 평가가 가능하다고 보인다. 최소 길이를 2, 최대 길이를 150으로 두겠다."
   ]
  },
  {
   "cell_type": "code",
   "execution_count": 24,
   "id": "615622ba",
   "metadata": {},
   "outputs": [],
   "source": [
    "def crop_df(df, min_len=2, max_len=150):\n",
    "    df = df.copy()\n",
    "    df['length'] = df['review'].apply(lambda i:((min_len <= len(i)) and (len(i) <= max_len)))\n",
    "    df_crop = df[df['length']]\n",
    "    return df_crop\n",
    "\n",
    "df_train_crop = crop_df(df_train)\n",
    "df_test_crop = crop_df(df_test)"
   ]
  },
  {
   "cell_type": "code",
   "execution_count": 25,
   "id": "4d714e4a",
   "metadata": {},
   "outputs": [
    {
     "name": "stdout",
     "output_type": "stream",
     "text": [
      "145316\n",
      "48901\n"
     ]
    }
   ],
   "source": [
    "print(len(df_train_crop))\n",
    "print(len(df_test_crop))\n"
   ]
  },
  {
   "cell_type": "code",
   "execution_count": 26,
   "id": "64143a7f",
   "metadata": {},
   "outputs": [
    {
     "data": {
      "text/plain": [
       "(194217,)"
      ]
     },
     "execution_count": 26,
     "metadata": {},
     "output_type": "execute_result"
    }
   ],
   "source": [
    "X_train = df_train_crop['review'].values\n",
    "y_train = df_train_crop['label'].values.astype('float32')\n",
    "X_test = df_test_crop['review'].values\n",
    "y_test = df_test_crop['label'].values.astype('float32')\n",
    "X = np.concatenate([X_train, X_test])\n",
    "X.shape"
   ]
  },
  {
   "cell_type": "code",
   "execution_count": 27,
   "id": "b198f217",
   "metadata": {},
   "outputs": [],
   "source": [
    "X_tensor, word_index, index_word = sp_tokenize(s, X)"
   ]
  },
  {
   "cell_type": "code",
   "execution_count": 28,
   "id": "6547a34b",
   "metadata": {},
   "outputs": [],
   "source": [
    "X_sp_train = X_tensor[:len(X_train)]\n",
    "X_sp_test = X_tensor[len(X_train):]"
   ]
  },
  {
   "cell_type": "code",
   "execution_count": 29,
   "id": "ae2a93ce",
   "metadata": {},
   "outputs": [
    {
     "name": "stdout",
     "output_type": "stream",
     "text": [
      "Model: \"sequential\"\n",
      "_________________________________________________________________\n",
      "Layer (type)                 Output Shape              Param #   \n",
      "=================================================================\n",
      "embedding (Embedding)        (None, 140, 128)          1024000   \n",
      "_________________________________________________________________\n",
      "lstm (LSTM)                  (None, 60)                45360     \n",
      "_________________________________________________________________\n",
      "dense (Dense)                (None, 10)                610       \n",
      "_________________________________________________________________\n",
      "dense_1 (Dense)              (None, 1)                 11        \n",
      "=================================================================\n",
      "Total params: 1,069,981\n",
      "Trainable params: 1,069,981\n",
      "Non-trainable params: 0\n",
      "_________________________________________________________________\n"
     ]
    }
   ],
   "source": [
    "from keras.models import Sequential\n",
    "from keras.layers import Embedding, LSTM, Dense, Dropout, BatchNormalization\n",
    "\n",
    "embedding_dim = 128 \n",
    "max_len = 140 \n",
    "lstm_units = 60\n",
    "\n",
    "model = Sequential()\n",
    "\n",
    "model.add(Embedding(vocab_size, embedding_dim, input_length=max_len, mask_zero=True))\n",
    "\n",
    "model.add(LSTM(lstm_units))\n",
    "\n",
    "model.add(Dense(10, activation='relu'))\n",
    "model.add(Dense(1, activation='sigmoid'))\n",
    "\n",
    "model.summary()\n"
   ]
  },
  {
   "cell_type": "code",
   "execution_count": 30,
   "id": "73e312a9",
   "metadata": {},
   "outputs": [
    {
     "name": "stdout",
     "output_type": "stream",
     "text": [
      "Epoch 1/10\n",
      "909/909 [==============================] - 294s 319ms/step - loss: 0.4256 - accuracy: 0.8037 - val_loss: 0.3832 - val_accuracy: 0.8259\n",
      "Epoch 2/10\n",
      "909/909 [==============================] - 296s 325ms/step - loss: 0.3491 - accuracy: 0.8441 - val_loss: 0.3612 - val_accuracy: 0.8401\n",
      "Epoch 3/10\n",
      "909/909 [==============================] - 297s 327ms/step - loss: 0.3105 - accuracy: 0.8644 - val_loss: 0.3553 - val_accuracy: 0.8457\n",
      "Epoch 4/10\n",
      "909/909 [==============================] - 292s 321ms/step - loss: 0.2795 - accuracy: 0.8814 - val_loss: 0.3562 - val_accuracy: 0.8471\n",
      "Epoch 5/10\n",
      "909/909 [==============================] - 293s 322ms/step - loss: 0.2514 - accuracy: 0.8952 - val_loss: 0.3763 - val_accuracy: 0.8440\n",
      "Epoch 6/10\n",
      "909/909 [==============================] - 293s 322ms/step - loss: 0.2271 - accuracy: 0.9077 - val_loss: 0.3908 - val_accuracy: 0.8412\n",
      "Epoch 7/10\n",
      "909/909 [==============================] - 293s 323ms/step - loss: 0.2023 - accuracy: 0.9202 - val_loss: 0.4158 - val_accuracy: 0.8423\n",
      "Epoch 8/10\n",
      "909/909 [==============================] - 292s 321ms/step - loss: 0.1808 - accuracy: 0.9297 - val_loss: 0.4310 - val_accuracy: 0.8395\n",
      "Epoch 9/10\n",
      "909/909 [==============================] - 292s 321ms/step - loss: 0.1622 - accuracy: 0.9374 - val_loss: 0.4666 - val_accuracy: 0.8380\n",
      "Epoch 10/10\n",
      "909/909 [==============================] - 295s 325ms/step - loss: 0.1425 - accuracy: 0.9463 - val_loss: 0.5186 - val_accuracy: 0.8333\n"
     ]
    },
    {
     "data": {
      "text/plain": [
       "<keras.callbacks.History at 0x7fe52a4de550>"
      ]
     },
     "execution_count": 30,
     "metadata": {},
     "output_type": "execute_result"
    }
   ],
   "source": [
    "model.compile(loss='binary_crossentropy', optimizer='adam', metrics=['accuracy'])\n",
    "model.fit(X_sp_train, y_train, epochs=10, batch_size=128, validation_split=0.2)"
   ]
  },
  {
   "cell_type": "code",
   "execution_count": 31,
   "id": "dae26e06",
   "metadata": {},
   "outputs": [
    {
     "name": "stdout",
     "output_type": "stream",
     "text": [
      "1529/1529 [==============================] - 36s 23ms/step - loss: 0.5266 - accuracy: 0.8335\n"
     ]
    },
    {
     "data": {
      "text/plain": [
       "[0.5265857577323914, 0.8334798812866211]"
      ]
     },
     "execution_count": 31,
     "metadata": {},
     "output_type": "execute_result"
    }
   ],
   "source": [
    "model.evaluate(X_sp_test, y_test)"
   ]
  },
  {
   "cell_type": "markdown",
   "id": "a600f70f",
   "metadata": {},
   "source": [
    "약 83.3%의 정확도가 나왔다."
   ]
  },
  {
   "cell_type": "markdown",
   "id": "6ddff9f9",
   "metadata": {},
   "source": [
    "## 다른 토크나이저 사용하기"
   ]
  },
  {
   "cell_type": "markdown",
   "id": "37db007c",
   "metadata": {},
   "source": [
    "### Mecab 사용하기"
   ]
  },
  {
   "cell_type": "code",
   "execution_count": 32,
   "id": "de61f822",
   "metadata": {},
   "outputs": [],
   "source": [
    "from konlpy.tag import Mecab\n",
    "\n",
    "mecab = Mecab()\n",
    "\n",
    "def mecab_tokenizer(text):\n",
    "    tokens = mecab.morphs(text)\n",
    "    return tokens"
   ]
  },
  {
   "cell_type": "code",
   "execution_count": 33,
   "id": "a224f1e6",
   "metadata": {},
   "outputs": [
    {
     "name": "stdout",
     "output_type": "stream",
     "text": [
      "['아버지', '가', '방', '에', '들어가', '신다']\n"
     ]
    }
   ],
   "source": [
    "print(mecab_tokenizer('아버지가방에들어가신다'))"
   ]
  },
  {
   "cell_type": "code",
   "execution_count": 34,
   "id": "12ca7c18",
   "metadata": {},
   "outputs": [
    {
     "name": "stdout",
     "output_type": "stream",
     "text": [
      "['너무', '기대', '안', '하', '고', '갔', '나', '재밌', '게', '봤', '다']\n",
      "['굉장히', '잘', '만든', '수작', '지루', '할', '틈', '이', '없', '음']\n",
      "['ㄱ', 'ㅐ', 'OOO', '같', '은', '영화', '뭐', '가', '무섭', '다는', '건지', 'ㅡㅡ', '/']\n",
      "['ㄴ', 'ㅓ무합니다이무슨', '.', '.', '유치찬란', '.', '.', '오', '글', '거려', '못', '보', '겠', '네요']\n",
      "['개봉', '했', '을', '때', '부터', '지금', '까지', '마음', '이', '답답', '하', '거나', '힘들', '때', '이', '영화', '보', '고', '있', '어요', '그때', '마다', '심', '적', '인', '위로', '를', '받', '을', '수', '있', '는', '영화', '같', '아요', '장면', '하나하나', '가', '너무', '예쁘', '고', '마음', '에', '남', '아서', '진한', '여운', '까지', '주', '는', '영화', '감사', '합니다']\n"
     ]
    }
   ],
   "source": [
    "print(mecab_tokenizer('너무기대안하고갔나재밌게봤다'))\n",
    "print(mecab_tokenizer('굉장히잘만든수작지루할틈이없음'))\n",
    "print(mecab_tokenizer('ㄱㅐOOO같은영화 뭐가무섭다는건지ㅡㅡ/'))\n",
    "print(mecab_tokenizer('ㄴㅓ무합니다이무슨..유치찬란..오글거려못보겠네요'))\n",
    "print(mecab_tokenizer('개봉했을때부터 지금까지 마음이답답하거나 힘들때 이영화 보고있어요 그때마다 심적인 위로를 받을수있는영화같아요 장면 하나하나가 너무예쁘고 마음에 남아서 진한 여운까지 주는영화 감사합니다'))"
   ]
  },
  {
   "cell_type": "markdown",
   "id": "72fd6809",
   "metadata": {},
   "source": [
    "이전 결과와 다시 비교해보자."
   ]
  },
  {
   "cell_type": "code",
   "execution_count": 35,
   "id": "2888beea",
   "metadata": {},
   "outputs": [
    {
     "name": "stdout",
     "output_type": "stream",
     "text": [
      "['▁너무', '기', '대', '안', '하고', '갔', '나', '재', '밌', '게', '봤', '다']\n",
      "['▁', '굉', '장', '히', '잘', '만', '든', '수', '작', '지', '루', '할', '틈', '이', '없', '음']\n",
      "['▁개', 'O', 'O', 'O', '같은', '영화', '▁', '뭐', '가', '무', '섭', '다', '는', '건', '지', 'ᅳᅳ', '/']\n",
      "['▁너무', '합니다', '이', '무', '슨', '.', '.', '유', '치', '찬', '란', '.', '.', '오', '글', '거', '려', '못', '보', '겠', '네', '요']\n",
      "['▁개봉', '했을', '때', '부터', '▁지금', '까지', '▁마음', '이', '답', '답', '하거나', '▁힘들', '때', '▁이', '영화', '▁보고', '있', '어', '요', '▁그', '때', '마다', '▁심', '적인', '▁위로', '를', '▁받을', '수', '있는', '영화', '같', '아', '요', '▁장면', '▁하나', '하', '나', '가', '▁너무', '예', '쁘', '고', '▁마음', '에', '▁남아', '서', '▁진', '한', '▁여', '운', '까지', '▁주는', '영화', '▁감사', '합니다']\n"
     ]
    }
   ],
   "source": [
    "print(s.SampleEncodeAsPieces('너무기대안하고갔나재밌게봤다',1, 0.0))\n",
    "print(s.SampleEncodeAsPieces('굉장히잘만든수작지루할틈이없음',1, 0.0))\n",
    "print(s.SampleEncodeAsPieces('ㄱㅐOOO같은영화 뭐가무섭다는건지ㅡㅡ/',1, 0.0))\n",
    "print(s.SampleEncodeAsPieces('ㄴㅓ무합니다이무슨..유치찬란..오글거려못보겠네요',1, 0.0))\n",
    "print(s.SampleEncodeAsPieces('개봉했을때부터 지금까지 마음이답답하거나 힘들때 이영화 보고있어요 그때마다 심적인 위로를 받을수있는영화같아요 장면 하나하나가 너무예쁘고 마음에 남아서 진한 여운까지 주는영화 감사합니다',1, 0.0))"
   ]
  },
  {
   "cell_type": "markdown",
   "id": "73346584",
   "metadata": {},
   "source": [
    "상대적으로 띄어쓰기가 없는 경우에 mecab을 이용한 형태소 분석의 결과가 더 좋아 보인다. mecab을 이용하여 모델 학습을 다시 진행해보겠다."
   ]
  },
  {
   "cell_type": "code",
   "execution_count": 36,
   "id": "360ad639",
   "metadata": {},
   "outputs": [],
   "source": [
    "from tensorflow.keras.preprocessing.text import Tokenizer\n",
    "from tensorflow.keras.preprocessing.sequence import pad_sequences\n",
    "\n",
    "def mecab_text_to_seq(data):\n",
    "    mecab = Mecab()\n",
    "    \n",
    "    tokenized_corpus = [' '.join(mecab.morphs(sentence)) for sentence in data]\n",
    "    \n",
    "    tokenizer = Tokenizer()\n",
    "    tokenizer.fit_on_texts(tokenized_corpus)\n",
    "    \n",
    "    sequences = tokenizer.texts_to_sequences(tokenized_corpus)\n",
    "    \n",
    "    max_len = max(len(sequence) for sequence in sequences)  # 가장 긴 시퀀스 길이 계산\n",
    "    padded_sequences = pad_sequences(sequences, maxlen=max_len, padding='post')\n",
    "    \n",
    "    return padded_sequences"
   ]
  },
  {
   "cell_type": "code",
   "execution_count": 37,
   "id": "12798823",
   "metadata": {},
   "outputs": [],
   "source": [
    "X_mc = mecab_text_to_seq(X)"
   ]
  },
  {
   "cell_type": "code",
   "execution_count": 38,
   "id": "4fb23d8e",
   "metadata": {},
   "outputs": [
    {
     "data": {
      "text/plain": [
       "(194217, 105)"
      ]
     },
     "execution_count": 38,
     "metadata": {},
     "output_type": "execute_result"
    }
   ],
   "source": [
    "X_mc.shape"
   ]
  },
  {
   "cell_type": "code",
   "execution_count": 39,
   "id": "569812cb",
   "metadata": {},
   "outputs": [],
   "source": [
    "X_mc_train = X_mc[:len(X_train)].astype('float32')\n",
    "X_mc_test = X_mc[len(X_train):].astype('float32')"
   ]
  },
  {
   "cell_type": "code",
   "execution_count": 40,
   "id": "96c9bcb0",
   "metadata": {},
   "outputs": [
    {
     "name": "stdout",
     "output_type": "stream",
     "text": [
      "Model: \"sequential_1\"\n",
      "_________________________________________________________________\n",
      "Layer (type)                 Output Shape              Param #   \n",
      "=================================================================\n",
      "embedding_1 (Embedding)      (None, 105, 128)          1024000   \n",
      "_________________________________________________________________\n",
      "lstm_1 (LSTM)                (None, 60)                45360     \n",
      "_________________________________________________________________\n",
      "dense_2 (Dense)              (None, 10)                610       \n",
      "_________________________________________________________________\n",
      "dense_3 (Dense)              (None, 1)                 11        \n",
      "=================================================================\n",
      "Total params: 1,069,981\n",
      "Trainable params: 1,069,981\n",
      "Non-trainable params: 0\n",
      "_________________________________________________________________\n"
     ]
    }
   ],
   "source": [
    "from keras.models import Sequential\n",
    "from keras.layers import Embedding, LSTM, Dense, Dropout, BatchNormalization\n",
    "\n",
    "embedding_dim = 128 \n",
    "max_len = 105\n",
    "lstm_units = 60\n",
    "\n",
    "model = Sequential()\n",
    "\n",
    "model.add(Embedding(vocab_size, embedding_dim, input_length=max_len, mask_zero=True))\n",
    "\n",
    "model.add(LSTM(lstm_units))\n",
    "\n",
    "model.add(Dense(10, activation='relu'))\n",
    "model.add(Dense(1, activation='sigmoid'))\n",
    "\n",
    "model.summary()\n"
   ]
  },
  {
   "cell_type": "code",
   "execution_count": 41,
   "id": "8dbee9a9",
   "metadata": {},
   "outputs": [
    {
     "name": "stdout",
     "output_type": "stream",
     "text": [
      "Epoch 1/10\n",
      "909/909 [==============================] - 30s 29ms/step - loss: 0.3838 - accuracy: 0.8255 - val_loss: 0.3367 - val_accuracy: 0.8517\n",
      "Epoch 2/10\n",
      "909/909 [==============================] - 25s 27ms/step - loss: 0.3024 - accuracy: 0.8682 - val_loss: 0.3221 - val_accuracy: 0.8609\n",
      "Epoch 3/10\n",
      "909/909 [==============================] - 24s 26ms/step - loss: 0.2615 - accuracy: 0.8882 - val_loss: 0.3284 - val_accuracy: 0.8617\n",
      "Epoch 4/10\n",
      "909/909 [==============================] - 23s 26ms/step - loss: 0.2313 - accuracy: 0.9030 - val_loss: 0.3399 - val_accuracy: 0.8593\n",
      "Epoch 5/10\n",
      "909/909 [==============================] - 25s 27ms/step - loss: 0.2030 - accuracy: 0.9167 - val_loss: 0.3679 - val_accuracy: 0.8575\n",
      "Epoch 6/10\n",
      "909/909 [==============================] - 25s 27ms/step - loss: 0.1780 - accuracy: 0.9285 - val_loss: 0.3926 - val_accuracy: 0.8546\n",
      "Epoch 7/10\n",
      "909/909 [==============================] - 24s 26ms/step - loss: 0.1539 - accuracy: 0.9389 - val_loss: 0.4262 - val_accuracy: 0.8523\n",
      "Epoch 8/10\n",
      "909/909 [==============================] - 24s 26ms/step - loss: 0.1362 - accuracy: 0.9460 - val_loss: 0.4944 - val_accuracy: 0.8465\n",
      "Epoch 9/10\n",
      "909/909 [==============================] - 25s 27ms/step - loss: 0.1196 - accuracy: 0.9532 - val_loss: 0.5449 - val_accuracy: 0.8477\n",
      "Epoch 10/10\n",
      "909/909 [==============================] - 24s 26ms/step - loss: 0.1062 - accuracy: 0.9578 - val_loss: 0.5797 - val_accuracy: 0.8455\n"
     ]
    },
    {
     "data": {
      "text/plain": [
       "<keras.callbacks.History at 0x7fe4a40a8970>"
      ]
     },
     "execution_count": 41,
     "metadata": {},
     "output_type": "execute_result"
    }
   ],
   "source": [
    "model.compile(loss='binary_crossentropy', optimizer='adam', metrics=['accuracy'])\n",
    "model.fit(X_mc_train, y_train, epochs=10, batch_size=128, validation_split=0.2)"
   ]
  },
  {
   "cell_type": "code",
   "execution_count": 42,
   "id": "93e8568e",
   "metadata": {},
   "outputs": [
    {
     "name": "stdout",
     "output_type": "stream",
     "text": [
      "1529/1529 [==============================] - 6s 4ms/step - loss: 0.5722 - accuracy: 0.8470\n"
     ]
    },
    {
     "data": {
      "text/plain": [
       "[0.5722411870956421, 0.8470174670219421]"
      ]
     },
     "execution_count": 42,
     "metadata": {},
     "output_type": "execute_result"
    }
   ],
   "source": [
    "model.evaluate(X_mc_test, y_test)"
   ]
  },
  {
   "cell_type": "markdown",
   "id": "af7862bf",
   "metadata": {},
   "source": [
    "84.7%로 약간의 성능 향상이 있었다. 과적합 방지 기법을 쓰면 더 올라갈 것으로 보인다."
   ]
  },
  {
   "cell_type": "markdown",
   "id": "2712d1f4",
   "metadata": {},
   "source": [
    "### SentencePiece - BPE 사용"
   ]
  },
  {
   "cell_type": "code",
   "execution_count": 46,
   "id": "e4e1cbc8",
   "metadata": {},
   "outputs": [
    {
     "name": "stderr",
     "output_type": "stream",
     "text": [
      "sentencepiece_trainer.cc(177) LOG(INFO) Running command: --input=/aiffel/aiffel/sp_tokenizer/data/korean-english-park.train.ko.temp --model_prefix=korean_spm_bpe --model_type=bpe --vocab_size=8000\n",
      "sentencepiece_trainer.cc(77) LOG(INFO) Starts training with : \n",
      "trainer_spec {\n",
      "  input: /aiffel/aiffel/sp_tokenizer/data/korean-english-park.train.ko.temp\n",
      "  input_format: \n",
      "  model_prefix: korean_spm_bpe\n",
      "  model_type: BPE\n",
      "  vocab_size: 8000\n",
      "  self_test_sample_size: 0\n",
      "  character_coverage: 0.9995\n",
      "  input_sentence_size: 0\n",
      "  shuffle_input_sentence: 1\n",
      "  seed_sentencepiece_size: 1000000\n",
      "  shrinking_factor: 0.75\n",
      "  max_sentence_length: 4192\n",
      "  num_threads: 16\n",
      "  num_sub_iterations: 2\n",
      "  max_sentencepiece_length: 16\n",
      "  split_by_unicode_script: 1\n",
      "  split_by_number: 1\n",
      "  split_by_whitespace: 1\n",
      "  split_digits: 0\n",
      "  treat_whitespace_as_suffix: 0\n",
      "  allow_whitespace_only_pieces: 0\n",
      "  required_chars: \n",
      "  byte_fallback: 0\n",
      "  vocabulary_output_piece_score: 1\n",
      "  train_extremely_large_corpus: 0\n",
      "  hard_vocab_limit: 1\n",
      "  use_all_vocab: 0\n",
      "  unk_id: 0\n",
      "  bos_id: 1\n",
      "  eos_id: 2\n",
      "  pad_id: -1\n",
      "  unk_piece: <unk>\n",
      "  bos_piece: <s>\n",
      "  eos_piece: </s>\n",
      "  pad_piece: <pad>\n",
      "  unk_surface:  ⁇ \n",
      "}\n",
      "normalizer_spec {\n",
      "  name: nmt_nfkc\n",
      "  add_dummy_prefix: 1\n",
      "  remove_extra_whitespaces: 1\n",
      "  escape_whitespaces: 1\n",
      "  normalization_rule_tsv: \n",
      "}\n",
      "denormalizer_spec {}\n",
      "trainer_interface.cc(329) LOG(INFO) SentenceIterator is not specified. Using MultiFileSentenceIterator.\n",
      "trainer_interface.cc(178) LOG(INFO) Loading corpus: /aiffel/aiffel/sp_tokenizer/data/korean-english-park.train.ko.temp\n",
      "trainer_interface.cc(385) LOG(INFO) Loaded all 76908 sentences\n",
      "trainer_interface.cc(400) LOG(INFO) Adding meta_piece: <unk>\n",
      "trainer_interface.cc(400) LOG(INFO) Adding meta_piece: <s>\n",
      "trainer_interface.cc(400) LOG(INFO) Adding meta_piece: </s>\n",
      "trainer_interface.cc(405) LOG(INFO) Normalizing sentences...\n",
      "trainer_interface.cc(466) LOG(INFO) all chars count=4996369\n",
      "trainer_interface.cc(477) LOG(INFO) Done: 99.95% characters are covered.\n",
      "trainer_interface.cc(487) LOG(INFO) Alphabet size=1317\n",
      "trainer_interface.cc(488) LOG(INFO) Final character coverage=0.9995\n",
      "trainer_interface.cc(520) LOG(INFO) Done! preprocessed 76908 sentences.\n",
      "trainer_interface.cc(526) LOG(INFO) Tokenizing input sentences with whitespace: 76908\n",
      "trainer_interface.cc(537) LOG(INFO) Done! 237965\n",
      "bpe_model_trainer.cc(167) LOG(INFO) Updating active symbols. max_freq=37043 min_freq=188\n",
      "bpe_model_trainer.cc(258) LOG(INFO) Added: freq=10526 size=20 all=64102 active=6239 piece=▁가\n",
      "bpe_model_trainer.cc(258) LOG(INFO) Added: freq=7586 size=40 all=66979 active=9116 piece=▁일\n",
      "bpe_model_trainer.cc(258) LOG(INFO) Added: freq=5712 size=60 all=69013 active=11150 piece=▁하\n",
      "bpe_model_trainer.cc(258) LOG(INFO) Added: freq=4404 size=80 all=71006 active=13143 piece=▁해\n",
      "bpe_model_trainer.cc(258) LOG(INFO) Added: freq=3904 size=100 all=72666 active=14803 piece=▁결\n",
      "bpe_model_trainer.cc(167) LOG(INFO) Updating active symbols. max_freq=3872 min_freq=147\n",
      "bpe_model_trainer.cc(258) LOG(INFO) Added: freq=3422 size=120 all=74308 active=5232 piece=▁반\n",
      "bpe_model_trainer.cc(258) LOG(INFO) Added: freq=3011 size=140 all=76157 active=7081 piece=들을\n",
      "bpe_model_trainer.cc(258) LOG(INFO) Added: freq=2743 size=160 all=77986 active=8910 piece=▁에\n",
      "bpe_model_trainer.cc(258) LOG(INFO) Added: freq=2451 size=180 all=79566 active=10490 piece=한다\n",
      "bpe_model_trainer.cc(258) LOG(INFO) Added: freq=2222 size=200 all=80983 active=11907 piece=에는\n",
      "bpe_model_trainer.cc(167) LOG(INFO) Updating active symbols. max_freq=2209 min_freq=126\n",
      "bpe_model_trainer.cc(258) LOG(INFO) Added: freq=2027 size=220 all=82597 active=5345 piece=▁지역\n",
      "bpe_model_trainer.cc(258) LOG(INFO) Added: freq=1878 size=240 all=83697 active=6445 piece=▁한편\n",
      "bpe_model_trainer.cc(258) LOG(INFO) Added: freq=1732 size=260 all=85129 active=7877 piece=▁보도\n",
      "bpe_model_trainer.cc(258) LOG(INFO) Added: freq=1623 size=280 all=86544 active=9292 piece=▁관련\n",
      "bpe_model_trainer.cc(258) LOG(INFO) Added: freq=1557 size=300 all=87836 active=10584 piece=▁대통령은\n",
      "bpe_model_trainer.cc(167) LOG(INFO) Updating active symbols. max_freq=1556 min_freq=113\n",
      "bpe_model_trainer.cc(258) LOG(INFO) Added: freq=1510 size=320 all=89131 active=5686 piece=▁부시\n",
      "bpe_model_trainer.cc(258) LOG(INFO) Added: freq=1411 size=340 all=90150 active=6705 piece=▁산\n",
      "bpe_model_trainer.cc(258) LOG(INFO) Added: freq=1328 size=360 all=91505 active=8060 piece=▁계획\n",
      "bpe_model_trainer.cc(258) LOG(INFO) Added: freq=1264 size=380 all=92481 active=9036 piece=▁한다\n",
      "bpe_model_trainer.cc(258) LOG(INFO) Added: freq=1210 size=400 all=93606 active=10161 piece=▁했다\n",
      "bpe_model_trainer.cc(167) LOG(INFO) Updating active symbols. max_freq=1208 min_freq=101\n",
      "bpe_model_trainer.cc(258) LOG(INFO) Added: freq=1153 size=420 all=94570 active=5639 piece=▁토\n",
      "bpe_model_trainer.cc(258) LOG(INFO) Added: freq=1104 size=440 all=95620 active=6689 piece=▁생각\n",
      "bpe_model_trainer.cc(258) LOG(INFO) Added: freq=1050 size=460 all=96566 active=7635 piece=리스\n",
      "bpe_model_trainer.cc(258) LOG(INFO) Added: freq=993 size=480 all=97877 active=8946 piece=▁종\n",
      "bpe_model_trainer.cc(258) LOG(INFO) Added: freq=960 size=500 all=99285 active=10354 piece=▁수도\n",
      "bpe_model_trainer.cc(167) LOG(INFO) Updating active symbols. max_freq=959 min_freq=93\n",
      "bpe_model_trainer.cc(258) LOG(INFO) Added: freq=914 size=520 all=100009 active=5662 piece=▁지원\n",
      "bpe_model_trainer.cc(258) LOG(INFO) Added: freq=886 size=540 all=100963 active=6616 piece=▁채\n",
      "bpe_model_trainer.cc(258) LOG(INFO) Added: freq=863 size=560 all=101872 active=7525 piece=장이\n",
      "bpe_model_trainer.cc(258) LOG(INFO) Added: freq=835 size=580 all=102527 active=8180 piece=▁없다\n",
      "bpe_model_trainer.cc(258) LOG(INFO) Added: freq=809 size=600 all=103222 active=8875 piece=▁휴\n",
      "bpe_model_trainer.cc(167) LOG(INFO) Updating active symbols. max_freq=808 min_freq=87\n",
      "bpe_model_trainer.cc(258) LOG(INFO) Added: freq=778 size=620 all=104234 active=6140 piece=▁나타\n",
      "bpe_model_trainer.cc(258) LOG(INFO) Added: freq=758 size=640 all=105000 active=6906 piece=▁a\n",
      "bpe_model_trainer.cc(258) LOG(INFO) Added: freq=739 size=660 all=106070 active=7976 piece=▁the\n",
      "bpe_model_trainer.cc(258) LOG(INFO) Added: freq=722 size=680 all=107085 active=8991 piece=▁K\n",
      "bpe_model_trainer.cc(258) LOG(INFO) Added: freq=706 size=700 all=107900 active=9806 piece=▁폐\n",
      "bpe_model_trainer.cc(167) LOG(INFO) Updating active symbols. max_freq=705 min_freq=81\n",
      "bpe_model_trainer.cc(258) LOG(INFO) Added: freq=686 size=720 all=109102 active=6554 piece=▁각\n",
      "bpe_model_trainer.cc(258) LOG(INFO) Added: freq=664 size=740 all=109988 active=7440 piece=ing\n",
      "bpe_model_trainer.cc(258) LOG(INFO) Added: freq=651 size=760 all=111188 active=8640 piece=▁방송\n",
      "bpe_model_trainer.cc(258) LOG(INFO) Added: freq=627 size=780 all=111910 active=9362 piece=인을\n",
      "bpe_model_trainer.cc(258) LOG(INFO) Added: freq=611 size=800 all=112988 active=10440 piece=▁받아\n",
      "bpe_model_trainer.cc(167) LOG(INFO) Updating active symbols. max_freq=610 min_freq=75\n",
      "bpe_model_trainer.cc(258) LOG(INFO) Added: freq=597 size=820 all=113726 active=6364 piece=▁의회\n",
      "bpe_model_trainer.cc(258) LOG(INFO) Added: freq=584 size=840 all=114502 active=7140 piece=▁2008\n",
      "bpe_model_trainer.cc(258) LOG(INFO) Added: freq=572 size=860 all=115558 active=8196 piece=▁골\n",
      "bpe_model_trainer.cc(258) LOG(INFO) Added: freq=553 size=880 all=116451 active=9089 piece=▁승리\n",
      "bpe_model_trainer.cc(258) LOG(INFO) Added: freq=540 size=900 all=117389 active=10027 piece=▁소속\n",
      "bpe_model_trainer.cc(167) LOG(INFO) Updating active symbols. max_freq=540 min_freq=71\n",
      "bpe_model_trainer.cc(258) LOG(INFO) Added: freq=533 size=920 all=118207 active=6670 piece=▁사진\n",
      "bpe_model_trainer.cc(258) LOG(INFO) Added: freq=521 size=940 all=118926 active=7389 piece=▁24\n",
      "bpe_model_trainer.cc(258) LOG(INFO) Added: freq=508 size=960 all=119724 active=8187 piece=자들을\n",
      "bpe_model_trainer.cc(258) LOG(INFO) Added: freq=499 size=980 all=120621 active=9084 piece=▁보호\n",
      "bpe_model_trainer.cc(258) LOG(INFO) Added: freq=489 size=1000 all=121556 active=10019 piece=▁22\n",
      "bpe_model_trainer.cc(167) LOG(INFO) Updating active symbols. max_freq=489 min_freq=67\n",
      "bpe_model_trainer.cc(258) LOG(INFO) Added: freq=475 size=1020 all=122136 active=6641 piece=대의\n",
      "bpe_model_trainer.cc(258) LOG(INFO) Added: freq=461 size=1040 all=123133 active=7638 piece=▁몰\n",
      "bpe_model_trainer.cc(258) LOG(INFO) Added: freq=453 size=1060 all=123897 active=8402 piece=▁오후\n",
      "bpe_model_trainer.cc(258) LOG(INFO) Added: freq=442 size=1080 all=124582 active=9087 piece=▁선수\n",
      "bpe_model_trainer.cc(258) LOG(INFO) Added: freq=430 size=1100 all=125174 active=9679 piece=카에\n",
      "bpe_model_trainer.cc(167) LOG(INFO) Updating active symbols. max_freq=429 min_freq=63\n",
      "bpe_model_trainer.cc(258) LOG(INFO) Added: freq=423 size=1120 all=125908 active=6981 piece=▁시민\n",
      "bpe_model_trainer.cc(258) LOG(INFO) Added: freq=414 size=1140 all=126439 active=7512 piece=▁사태\n",
      "bpe_model_trainer.cc(258) LOG(INFO) Added: freq=406 size=1160 all=127264 active=8337 piece=국의\n",
      "bpe_model_trainer.cc(258) LOG(INFO) Added: freq=397 size=1180 all=128061 active=9134 piece=▁부인\n",
      "bpe_model_trainer.cc(258) LOG(INFO) Added: freq=393 size=1200 all=128731 active=9804 piece=▁백악관\n",
      "bpe_model_trainer.cc(167) LOG(INFO) Updating active symbols. max_freq=393 min_freq=61\n",
      "bpe_model_trainer.cc(258) LOG(INFO) Added: freq=388 size=1220 all=129605 active=7298 piece=▁충돌\n",
      "bpe_model_trainer.cc(258) LOG(INFO) Added: freq=384 size=1240 all=130293 active=7986 piece=▁수감\n",
      "bpe_model_trainer.cc(258) LOG(INFO) Added: freq=377 size=1260 all=130992 active=8685 piece=합니다\n",
      "bpe_model_trainer.cc(258) LOG(INFO) Added: freq=371 size=1280 all=131855 active=9548 piece=▁이상의\n",
      "bpe_model_trainer.cc(258) LOG(INFO) Added: freq=365 size=1300 all=132534 active=10227 piece=▁이전\n",
      "bpe_model_trainer.cc(167) LOG(INFO) Updating active symbols. max_freq=365 min_freq=58\n",
      "bpe_model_trainer.cc(258) LOG(INFO) Added: freq=360 size=1320 all=133153 active=7219 piece=▁사망했다\n",
      "bpe_model_trainer.cc(258) LOG(INFO) Added: freq=352 size=1340 all=133685 active=7751 piece=▁동영\n",
      "bpe_model_trainer.cc(258) LOG(INFO) Added: freq=346 size=1360 all=134204 active=8270 piece=스터\n",
      "bpe_model_trainer.cc(258) LOG(INFO) Added: freq=341 size=1380 all=134948 active=9014 piece=▁불구하고\n",
      "bpe_model_trainer.cc(258) LOG(INFO) Added: freq=335 size=1400 all=135581 active=9647 piece=▁지진\n",
      "bpe_model_trainer.cc(167) LOG(INFO) Updating active symbols. max_freq=335 min_freq=55\n",
      "bpe_model_trainer.cc(258) LOG(INFO) Added: freq=328 size=1420 all=136186 active=7363 piece=▁놀\n",
      "bpe_model_trainer.cc(258) LOG(INFO) Added: freq=324 size=1440 all=136982 active=8159 piece=후보\n",
      "bpe_model_trainer.cc(258) LOG(INFO) Added: freq=320 size=1460 all=137580 active=8757 piece=▁서비\n",
      "bpe_model_trainer.cc(258) LOG(INFO) Added: freq=314 size=1480 all=138121 active=9298 piece=us\n",
      "bpe_model_trainer.cc(258) LOG(INFO) Added: freq=310 size=1500 all=138646 active=9823 piece=지구\n",
      "bpe_model_trainer.cc(167) LOG(INFO) Updating active symbols. max_freq=310 min_freq=53\n",
      "bpe_model_trainer.cc(258) LOG(INFO) Added: freq=308 size=1520 all=139149 active=7402 piece=▁인한\n",
      "bpe_model_trainer.cc(258) LOG(INFO) Added: freq=305 size=1540 all=139874 active=8127 piece=▁계획을\n",
      "bpe_model_trainer.cc(258) LOG(INFO) Added: freq=300 size=1560 all=140342 active=8595 piece=▁이뤄\n",
      "bpe_model_trainer.cc(258) LOG(INFO) Added: freq=296 size=1580 all=140928 active=9181 piece=이를\n",
      "bpe_model_trainer.cc(258) LOG(INFO) Added: freq=291 size=1600 all=141753 active=10006 piece=차례\n",
      "bpe_model_trainer.cc(167) LOG(INFO) Updating active symbols. max_freq=291 min_freq=51\n",
      "bpe_model_trainer.cc(258) LOG(INFO) Added: freq=287 size=1620 all=142342 active=7658 piece=▁윌리\n",
      "bpe_model_trainer.cc(258) LOG(INFO) Added: freq=283 size=1640 all=143021 active=8337 piece=▁선택\n",
      "bpe_model_trainer.cc(258) LOG(INFO) Added: freq=279 size=1660 all=143853 active=9169 piece=▁한국의\n",
      "bpe_model_trainer.cc(258) LOG(INFO) Added: freq=275 size=1680 all=144262 active=9578 piece=텍사\n",
      "bpe_model_trainer.cc(258) LOG(INFO) Added: freq=272 size=1700 all=144636 active=9952 piece=▁시장\n",
      "bpe_model_trainer.cc(167) LOG(INFO) Updating active symbols. max_freq=272 min_freq=49\n",
      "bpe_model_trainer.cc(258) LOG(INFO) Added: freq=268 size=1720 all=145091 active=7650 piece=▁끌\n",
      "bpe_model_trainer.cc(258) LOG(INFO) Added: freq=264 size=1740 all=145496 active=8055 piece=ers\n",
      "bpe_model_trainer.cc(258) LOG(INFO) Added: freq=260 size=1760 all=146082 active=8641 piece=▁비상\n",
      "bpe_model_trainer.cc(258) LOG(INFO) Added: freq=256 size=1780 all=146726 active=9285 piece=▁샌\n",
      "bpe_model_trainer.cc(258) LOG(INFO) Added: freq=253 size=1800 all=147210 active=9769 piece=▁보였다\n",
      "bpe_model_trainer.cc(167) LOG(INFO) Updating active symbols. max_freq=253 min_freq=48\n",
      "bpe_model_trainer.cc(258) LOG(INFO) Added: freq=250 size=1820 all=147710 active=7859 piece=▁사업\n",
      "bpe_model_trainer.cc(258) LOG(INFO) Added: freq=246 size=1840 all=148298 active=8447 piece=군의\n",
      "bpe_model_trainer.cc(258) LOG(INFO) Added: freq=244 size=1860 all=148901 active=9050 piece=▁한나라당\n",
      "bpe_model_trainer.cc(258) LOG(INFO) Added: freq=240 size=1880 all=149555 active=9704 piece=▁따라\n",
      "bpe_model_trainer.cc(258) LOG(INFO) Added: freq=237 size=1900 all=150341 active=10490 piece=으로써\n",
      "bpe_model_trainer.cc(167) LOG(INFO) Updating active symbols. max_freq=237 min_freq=46\n",
      "bpe_model_trainer.cc(258) LOG(INFO) Added: freq=235 size=1920 all=150923 active=8056 piece=▁부모\n",
      "bpe_model_trainer.cc(258) LOG(INFO) Added: freq=233 size=1940 all=151336 active=8469 piece=▁의원은\n",
      "bpe_model_trainer.cc(258) LOG(INFO) Added: freq=229 size=1960 all=151810 active=8943 piece=▁사망자\n",
      "bpe_model_trainer.cc(258) LOG(INFO) Added: freq=226 size=1980 all=152221 active=9354 piece=▁특히\n",
      "bpe_model_trainer.cc(258) LOG(INFO) Added: freq=224 size=2000 all=152707 active=9840 piece=▁월요일\n",
      "bpe_model_trainer.cc(167) LOG(INFO) Updating active symbols. max_freq=224 min_freq=45\n",
      "bpe_model_trainer.cc(258) LOG(INFO) Added: freq=221 size=2020 all=153338 active=8254 piece=▁되어\n",
      "bpe_model_trainer.cc(258) LOG(INFO) Added: freq=218 size=2040 all=153757 active=8673 piece=im\n",
      "bpe_model_trainer.cc(258) LOG(INFO) Added: freq=216 size=2060 all=154273 active=9189 piece=소에\n",
      "bpe_model_trainer.cc(258) LOG(INFO) Added: freq=213 size=2080 all=154856 active=9772 piece=운티\n",
      "bpe_model_trainer.cc(258) LOG(INFO) Added: freq=211 size=2100 all=155287 active=10203 piece=▁서로\n",
      "bpe_model_trainer.cc(167) LOG(INFO) Updating active symbols. max_freq=211 min_freq=43\n",
      "bpe_model_trainer.cc(258) LOG(INFO) Added: freq=210 size=2120 all=155776 active=8245 piece=▁밝혀졌다\n",
      "bpe_model_trainer.cc(258) LOG(INFO) Added: freq=206 size=2140 all=156463 active=8932 piece=▁위반\n",
      "bpe_model_trainer.cc(258) LOG(INFO) Added: freq=204 size=2160 all=156912 active=9381 piece=▁동맹\n",
      "bpe_model_trainer.cc(258) LOG(INFO) Added: freq=203 size=2180 all=157599 active=10068 piece=책을\n",
      "bpe_model_trainer.cc(258) LOG(INFO) Added: freq=201 size=2200 all=158065 active=10534 piece=IA\n",
      "bpe_model_trainer.cc(167) LOG(INFO) Updating active symbols. max_freq=201 min_freq=41\n",
      "bpe_model_trainer.cc(258) LOG(INFO) Added: freq=200 size=2220 all=158689 active=8505 piece=▁시즌\n",
      "bpe_model_trainer.cc(258) LOG(INFO) Added: freq=199 size=2240 all=159178 active=8994 piece=▁프로그램을\n",
      "bpe_model_trainer.cc(258) LOG(INFO) Added: freq=197 size=2260 all=159622 active=9438 piece=▁않아\n",
      "bpe_model_trainer.cc(258) LOG(INFO) Added: freq=195 size=2280 all=160134 active=9950 piece=명으로\n",
      "bpe_model_trainer.cc(258) LOG(INFO) Added: freq=193 size=2300 all=160657 active=10473 piece=▁80\n",
      "bpe_model_trainer.cc(167) LOG(INFO) Updating active symbols. max_freq=193 min_freq=40\n",
      "bpe_model_trainer.cc(258) LOG(INFO) Added: freq=191 size=2320 all=160937 active=8303 piece=지에서\n",
      "bpe_model_trainer.cc(258) LOG(INFO) Added: freq=189 size=2340 all=161665 active=9031 piece=▁그룹\n",
      "bpe_model_trainer.cc(258) LOG(INFO) Added: freq=188 size=2360 all=162110 active=9476 piece=▁The\n",
      "bpe_model_trainer.cc(258) LOG(INFO) Added: freq=186 size=2380 all=162540 active=9906 piece=▁되고\n",
      "bpe_model_trainer.cc(258) LOG(INFO) Added: freq=184 size=2400 all=162933 active=10299 piece=니스\n",
      "bpe_model_trainer.cc(167) LOG(INFO) Updating active symbols. max_freq=184 min_freq=39\n",
      "bpe_model_trainer.cc(258) LOG(INFO) Added: freq=182 size=2420 all=163449 active=8615 piece=▁수단\n",
      "bpe_model_trainer.cc(258) LOG(INFO) Added: freq=179 size=2440 all=163807 active=8973 piece=▁경영\n",
      "bpe_model_trainer.cc(258) LOG(INFO) Added: freq=178 size=2460 all=164193 active=9359 piece=▁아직까지\n",
      "bpe_model_trainer.cc(258) LOG(INFO) Added: freq=175 size=2480 all=164562 active=9728 piece=▁l\n",
      "bpe_model_trainer.cc(258) LOG(INFO) Added: freq=174 size=2500 all=165025 active=10191 piece=▁해야\n",
      "bpe_model_trainer.cc(167) LOG(INFO) Updating active symbols. max_freq=174 min_freq=38\n",
      "bpe_model_trainer.cc(258) LOG(INFO) Added: freq=172 size=2520 all=165399 active=8617 piece=▁달러를\n",
      "bpe_model_trainer.cc(258) LOG(INFO) Added: freq=171 size=2540 all=165768 active=8986 piece=트에서\n",
      "bpe_model_trainer.cc(258) LOG(INFO) Added: freq=169 size=2560 all=166171 active=9389 piece=리로\n",
      "bpe_model_trainer.cc(258) LOG(INFO) Added: freq=168 size=2580 all=166772 active=9990 piece=▁도움을\n",
      "bpe_model_trainer.cc(258) LOG(INFO) Added: freq=166 size=2600 all=167173 active=10391 piece=▁능\n",
      "bpe_model_trainer.cc(167) LOG(INFO) Updating active symbols. max_freq=166 min_freq=37\n",
      "bpe_model_trainer.cc(258) LOG(INFO) Added: freq=165 size=2620 all=167543 active=8720 piece=▁지시\n",
      "bpe_model_trainer.cc(258) LOG(INFO) Added: freq=163 size=2640 all=167892 active=9069 piece=▁론\n",
      "bpe_model_trainer.cc(258) LOG(INFO) Added: freq=162 size=2660 all=168369 active=9546 piece=▁힘들\n",
      "bpe_model_trainer.cc(258) LOG(INFO) Added: freq=161 size=2680 all=168824 active=10001 piece=▁con\n",
      "bpe_model_trainer.cc(258) LOG(INFO) Added: freq=159 size=2700 all=169192 active=10369 piece=▁오바마가\n",
      "bpe_model_trainer.cc(167) LOG(INFO) Updating active symbols. max_freq=158 min_freq=36\n",
      "bpe_model_trainer.cc(258) LOG(INFO) Added: freq=157 size=2720 all=169585 active=8853 piece=▁어느\n",
      "bpe_model_trainer.cc(258) LOG(INFO) Added: freq=156 size=2740 all=170095 active=9363 piece=▁주의\n",
      "bpe_model_trainer.cc(258) LOG(INFO) Added: freq=155 size=2760 all=170547 active=9815 piece=▁비난을\n",
      "bpe_model_trainer.cc(258) LOG(INFO) Added: freq=153 size=2780 all=170886 active=10154 piece=BI\n",
      "bpe_model_trainer.cc(258) LOG(INFO) Added: freq=152 size=2800 all=171549 active=10817 piece=▁세금\n",
      "bpe_model_trainer.cc(167) LOG(INFO) Updating active symbols. max_freq=152 min_freq=35\n",
      "bpe_model_trainer.cc(258) LOG(INFO) Added: freq=151 size=2820 all=171787 active=8801 piece=▁탁\n",
      "bpe_model_trainer.cc(258) LOG(INFO) Added: freq=150 size=2840 all=172258 active=9272 piece=▁넘는\n",
      "bpe_model_trainer.cc(258) LOG(INFO) Added: freq=149 size=2860 all=172657 active=9671 piece=▁목숨을\n",
      "bpe_model_trainer.cc(258) LOG(INFO) Added: freq=147 size=2880 all=173075 active=10089 piece=TO\n",
      "bpe_model_trainer.cc(258) LOG(INFO) Added: freq=146 size=2900 all=173440 active=10454 piece=▁거절\n",
      "bpe_model_trainer.cc(167) LOG(INFO) Updating active symbols. max_freq=146 min_freq=34\n",
      "bpe_model_trainer.cc(258) LOG(INFO) Added: freq=145 size=2920 all=173766 active=8963 piece=▁불안\n",
      "bpe_model_trainer.cc(258) LOG(INFO) Added: freq=144 size=2940 all=174091 active=9288 piece=▁조종\n",
      "bpe_model_trainer.cc(258) LOG(INFO) Added: freq=143 size=2960 all=174672 active=9869 piece=이지만\n",
      "bpe_model_trainer.cc(258) LOG(INFO) Added: freq=142 size=2980 all=175260 active=10457 piece=▁동원\n",
      "bpe_model_trainer.cc(258) LOG(INFO) Added: freq=141 size=3000 all=175623 active=10820 piece=▁평양\n",
      "bpe_model_trainer.cc(167) LOG(INFO) Updating active symbols. max_freq=141 min_freq=33\n",
      "bpe_model_trainer.cc(258) LOG(INFO) Added: freq=140 size=3020 all=175923 active=9063 piece=▁블로그\n",
      "bpe_model_trainer.cc(258) LOG(INFO) Added: freq=139 size=3040 all=176538 active=9678 piece=▁관련해\n",
      "bpe_model_trainer.cc(258) LOG(INFO) Added: freq=138 size=3060 all=176853 active=9993 piece=▁집단\n",
      "bpe_model_trainer.cc(258) LOG(INFO) Added: freq=137 size=3080 all=177344 active=10484 piece=▁병력\n",
      "bpe_model_trainer.cc(258) LOG(INFO) Added: freq=136 size=3100 all=177707 active=10847 piece=▁임무\n",
      "bpe_model_trainer.cc(167) LOG(INFO) Updating active symbols. max_freq=136 min_freq=33\n",
      "bpe_model_trainer.cc(258) LOG(INFO) Added: freq=135 size=3120 all=178036 active=9191 piece=▁사무실\n",
      "bpe_model_trainer.cc(258) LOG(INFO) Added: freq=134 size=3140 all=178364 active=9519 piece=▁점을\n",
      "bpe_model_trainer.cc(258) LOG(INFO) Added: freq=133 size=3160 all=178730 active=9885 piece=▁크리스토\n",
      "bpe_model_trainer.cc(258) LOG(INFO) Added: freq=132 size=3180 all=179081 active=10236 piece=join\n",
      "bpe_model_trainer.cc(258) LOG(INFO) Added: freq=131 size=3200 all=179429 active=10584 piece=▁작년\n",
      "bpe_model_trainer.cc(167) LOG(INFO) Updating active symbols. max_freq=131 min_freq=32\n",
      "bpe_model_trainer.cc(258) LOG(INFO) Added: freq=130 size=3220 all=179662 active=9202 piece=▁것도\n",
      "bpe_model_trainer.cc(258) LOG(INFO) Added: freq=129 size=3240 all=179961 active=9501 piece=분이\n",
      "bpe_model_trainer.cc(258) LOG(INFO) Added: freq=128 size=3260 all=180452 active=9992 piece=▁기본\n",
      "bpe_model_trainer.cc(258) LOG(INFO) Added: freq=127 size=3280 all=180817 active=10357 piece=▁저항\n",
      "bpe_model_trainer.cc(258) LOG(INFO) Added: freq=126 size=3300 all=181086 active=10626 piece=▁산불\n",
      "bpe_model_trainer.cc(167) LOG(INFO) Updating active symbols. max_freq=126 min_freq=31\n",
      "bpe_model_trainer.cc(258) LOG(INFO) Added: freq=125 size=3320 all=181323 active=9283 piece=만의\n",
      "bpe_model_trainer.cc(258) LOG(INFO) Added: freq=125 size=3340 all=181793 active=9753 piece=▁부시는\n",
      "bpe_model_trainer.cc(258) LOG(INFO) Added: freq=124 size=3360 all=182129 active=10089 piece=▁연장\n",
      "bpe_model_trainer.cc(258) LOG(INFO) Added: freq=124 size=3380 all=182369 active=10329 piece=▁전망이다\n",
      "bpe_model_trainer.cc(258) LOG(INFO) Added: freq=123 size=3400 all=182764 active=10724 piece=▁허가\n",
      "bpe_model_trainer.cc(167) LOG(INFO) Updating active symbols. max_freq=123 min_freq=31\n",
      "bpe_model_trainer.cc(258) LOG(INFO) Added: freq=122 size=3420 all=183104 active=9448 piece=▁사망했으며\n",
      "bpe_model_trainer.cc(258) LOG(INFO) Added: freq=121 size=3440 all=183434 active=9778 piece=▁대통령에게\n",
      "bpe_model_trainer.cc(258) LOG(INFO) Added: freq=119 size=3460 all=183674 active=10018 piece=//\n",
      "bpe_model_trainer.cc(258) LOG(INFO) Added: freq=119 size=3480 all=184031 active=10375 piece=▁기록을\n",
      "bpe_model_trainer.cc(258) LOG(INFO) Added: freq=118 size=3500 all=184229 active=10573 piece=소로\n",
      "bpe_model_trainer.cc(167) LOG(INFO) Updating active symbols. max_freq=118 min_freq=30\n",
      "bpe_model_trainer.cc(258) LOG(INFO) Added: freq=118 size=3520 all=184718 active=9661 piece=▁경찰과\n",
      "bpe_model_trainer.cc(258) LOG(INFO) Added: freq=117 size=3540 all=185065 active=10008 piece=▁배럴\n",
      "bpe_model_trainer.cc(258) LOG(INFO) Added: freq=116 size=3560 all=185190 active=10133 piece=▁윤\n",
      "bpe_model_trainer.cc(258) LOG(INFO) Added: freq=116 size=3580 all=185598 active=10541 piece=▁지급\n",
      "bpe_model_trainer.cc(258) LOG(INFO) Added: freq=115 size=3600 all=185829 active=10772 piece=10\n",
      "bpe_model_trainer.cc(167) LOG(INFO) Updating active symbols. max_freq=115 min_freq=29\n",
      "bpe_model_trainer.cc(258) LOG(INFO) Added: freq=114 size=3620 all=186179 active=9604 piece=▁당한\n",
      "bpe_model_trainer.cc(258) LOG(INFO) Added: freq=114 size=3640 all=186397 active=9822 piece=▁이들이\n",
      "bpe_model_trainer.cc(258) LOG(INFO) Added: freq=113 size=3660 all=186813 active=10238 piece=▁우크라이나\n",
      "bpe_model_trainer.cc(258) LOG(INFO) Added: freq=112 size=3680 all=187284 active=10709 piece=▁최소한\n",
      "bpe_model_trainer.cc(258) LOG(INFO) Added: freq=111 size=3700 all=187696 active=11121 piece=▁형태\n",
      "bpe_model_trainer.cc(167) LOG(INFO) Updating active symbols. max_freq=111 min_freq=29\n",
      "bpe_model_trainer.cc(258) LOG(INFO) Added: freq=110 size=3720 all=187947 active=9623 piece=수도\n",
      "bpe_model_trainer.cc(258) LOG(INFO) Added: freq=110 size=3740 all=188147 active=9823 piece=▁테러를\n",
      "bpe_model_trainer.cc(258) LOG(INFO) Added: freq=109 size=3760 all=188467 active=10143 piece=▁자국\n",
      "bpe_model_trainer.cc(258) LOG(INFO) Added: freq=108 size=3780 all=188827 active=10503 piece=오와\n",
      "bpe_model_trainer.cc(258) LOG(INFO) Added: freq=107 size=3800 all=189268 active=10944 piece=비는\n",
      "bpe_model_trainer.cc(167) LOG(INFO) Updating active symbols. max_freq=107 min_freq=28\n",
      "bpe_model_trainer.cc(258) LOG(INFO) Added: freq=107 size=3820 all=189535 active=9693 piece=▁준비가\n",
      "bpe_model_trainer.cc(258) LOG(INFO) Added: freq=106 size=3840 all=189828 active=9986 piece=관들은\n",
      "bpe_model_trainer.cc(258) LOG(INFO) Added: freq=105 size=3860 all=190151 active=10309 piece=ine\n",
      "bpe_model_trainer.cc(258) LOG(INFO) Added: freq=105 size=3880 all=190533 active=10691 piece=▁테러가\n",
      "bpe_model_trainer.cc(258) LOG(INFO) Added: freq=104 size=3900 all=190759 active=10917 piece=▁긴장\n",
      "bpe_model_trainer.cc(167) LOG(INFO) Updating active symbols. max_freq=104 min_freq=28\n",
      "bpe_model_trainer.cc(258) LOG(INFO) Added: freq=104 size=3920 all=191140 active=9898 piece=▁위협을\n",
      "bpe_model_trainer.cc(258) LOG(INFO) Added: freq=103 size=3940 all=191654 active=10412 piece=▁와인\n",
      "bpe_model_trainer.cc(258) LOG(INFO) Added: freq=102 size=3960 all=191956 active=10714 piece=▁앓\n",
      "bpe_model_trainer.cc(258) LOG(INFO) Added: freq=102 size=3980 all=192281 active=11039 piece=▁않으면\n",
      "bpe_model_trainer.cc(258) LOG(INFO) Added: freq=101 size=4000 all=192494 active=11252 piece=▁내놓\n",
      "bpe_model_trainer.cc(167) LOG(INFO) Updating active symbols. max_freq=101 min_freq=27\n",
      "bpe_model_trainer.cc(258) LOG(INFO) Added: freq=101 size=4020 all=192656 active=9768 piece=▁구체적인\n",
      "bpe_model_trainer.cc(258) LOG(INFO) Added: freq=100 size=4040 all=192950 active=10062 piece=▁나달\n",
      "bpe_model_trainer.cc(258) LOG(INFO) Added: freq=100 size=4060 all=193106 active=10218 piece=▁했으며\n",
      "bpe_model_trainer.cc(258) LOG(INFO) Added: freq=99 size=4080 all=193512 active=10624 piece=▁인정했다\n",
      "bpe_model_trainer.cc(258) LOG(INFO) Added: freq=98 size=4100 all=193891 active=11003 piece=▁불참\n",
      "bpe_model_trainer.cc(167) LOG(INFO) Updating active symbols. max_freq=98 min_freq=27\n",
      "bpe_model_trainer.cc(258) LOG(INFO) Added: freq=98 size=4120 all=194124 active=9906 piece=▁테이프\n",
      "bpe_model_trainer.cc(258) LOG(INFO) Added: freq=97 size=4140 all=194366 active=10148 piece=▁음반\n",
      "bpe_model_trainer.cc(258) LOG(INFO) Added: freq=97 size=4160 all=194531 active=10313 piece=▁맨체스터\n",
      "bpe_model_trainer.cc(258) LOG(INFO) Added: freq=96 size=4180 all=194864 active=10646 piece=▁브루\n",
      "bpe_model_trainer.cc(258) LOG(INFO) Added: freq=96 size=4200 all=195072 active=10854 piece=▁조지아\n",
      "bpe_model_trainer.cc(167) LOG(INFO) Updating active symbols. max_freq=96 min_freq=26\n",
      "bpe_model_trainer.cc(258) LOG(INFO) Added: freq=95 size=4220 all=195461 active=10132 piece=▁le\n",
      "bpe_model_trainer.cc(258) LOG(INFO) Added: freq=95 size=4240 all=195747 active=10418 piece=▁1990\n",
      "bpe_model_trainer.cc(258) LOG(INFO) Added: freq=94 size=4260 all=196043 active=10714 piece=▁맞서\n",
      "bpe_model_trainer.cc(258) LOG(INFO) Added: freq=94 size=4280 all=196334 active=11005 piece=해졌다\n",
      "bpe_model_trainer.cc(258) LOG(INFO) Added: freq=93 size=4300 all=196544 active=11215 piece=브는\n",
      "bpe_model_trainer.cc(167) LOG(INFO) Updating active symbols. max_freq=93 min_freq=26\n",
      "bpe_model_trainer.cc(258) LOG(INFO) Added: freq=93 size=4320 all=196902 active=10155 piece=에게는\n",
      "bpe_model_trainer.cc(258) LOG(INFO) Added: freq=92 size=4340 all=197099 active=10352 piece=병을\n",
      "bpe_model_trainer.cc(258) LOG(INFO) Added: freq=92 size=4360 all=197428 active=10681 piece=▁된다고\n",
      "bpe_model_trainer.cc(258) LOG(INFO) Added: freq=91 size=4380 all=197616 active=10869 piece=리조\n",
      "bpe_model_trainer.cc(258) LOG(INFO) Added: freq=91 size=4400 all=197971 active=11224 piece=▁찾는\n",
      "bpe_model_trainer.cc(167) LOG(INFO) Updating active symbols. max_freq=91 min_freq=25\n",
      "bpe_model_trainer.cc(258) LOG(INFO) Added: freq=91 size=4420 all=198060 active=9985 piece=▁아르헨티나\n",
      "bpe_model_trainer.cc(258) LOG(INFO) Added: freq=90 size=4440 all=198569 active=10494 piece=▁대량\n",
      "bpe_model_trainer.cc(258) LOG(INFO) Added: freq=89 size=4460 all=198750 active=10675 piece=▁대다\n",
      "bpe_model_trainer.cc(258) LOG(INFO) Added: freq=89 size=4480 all=198926 active=10851 piece=▁드러났다\n",
      "bpe_model_trainer.cc(258) LOG(INFO) Added: freq=88 size=4500 all=199322 active=11247 piece=▁51\n",
      "bpe_model_trainer.cc(167) LOG(INFO) Updating active symbols. max_freq=88 min_freq=25\n",
      "bpe_model_trainer.cc(258) LOG(INFO) Added: freq=88 size=4520 all=199535 active=10165 piece=▁당했다\n",
      "bpe_model_trainer.cc(258) LOG(INFO) Added: freq=87 size=4540 all=199712 active=10342 piece=▁켄\n",
      "bpe_model_trainer.cc(258) LOG(INFO) Added: freq=87 size=4560 all=200090 active=10720 piece=▁성과\n",
      "bpe_model_trainer.cc(258) LOG(INFO) Added: freq=87 size=4580 all=200223 active=10853 piece=▁러시아의\n",
      "bpe_model_trainer.cc(258) LOG(INFO) Added: freq=86 size=4600 all=200534 active=11164 piece=▁만한\n",
      "bpe_model_trainer.cc(167) LOG(INFO) Updating active symbols. max_freq=86 min_freq=25\n",
      "bpe_model_trainer.cc(258) LOG(INFO) Added: freq=86 size=4620 all=200644 active=10137 piece=▁케네디\n",
      "bpe_model_trainer.cc(258) LOG(INFO) Added: freq=85 size=4640 all=200966 active=10459 piece=▁경계\n",
      "bpe_model_trainer.cc(258) LOG(INFO) Added: freq=85 size=4660 all=201353 active=10846 piece=▁FTA\n",
      "bpe_model_trainer.cc(258) LOG(INFO) Added: freq=84 size=4680 all=201485 active=10978 piece=시피\n",
      "bpe_model_trainer.cc(258) LOG(INFO) Added: freq=84 size=4700 all=201848 active=11341 piece=▁소환\n",
      "bpe_model_trainer.cc(167) LOG(INFO) Updating active symbols. max_freq=84 min_freq=24\n",
      "bpe_model_trainer.cc(258) LOG(INFO) Added: freq=84 size=4720 all=202193 active=10407 piece=▁더불어\n",
      "bpe_model_trainer.cc(258) LOG(INFO) Added: freq=83 size=4740 all=202286 active=10500 piece=ue\n",
      "bpe_model_trainer.cc(258) LOG(INFO) Added: freq=83 size=4760 all=202584 active=10798 piece=▁앉아\n",
      "bpe_model_trainer.cc(258) LOG(INFO) Added: freq=83 size=4780 all=202793 active=11007 piece=학자들은\n",
      "bpe_model_trainer.cc(258) LOG(INFO) Added: freq=82 size=4800 all=203151 active=11365 piece=▁권력\n",
      "bpe_model_trainer.cc(167) LOG(INFO) Updating active symbols. max_freq=82 min_freq=24\n",
      "bpe_model_trainer.cc(258) LOG(INFO) Added: freq=82 size=4820 all=203364 active=10351 piece=▁관련이\n",
      "bpe_model_trainer.cc(258) LOG(INFO) Added: freq=81 size=4840 all=203438 active=10425 piece=▁섹\n",
      "bpe_model_trainer.cc(258) LOG(INFO) Added: freq=81 size=4860 all=203864 active=10851 piece=▁의존\n",
      "bpe_model_trainer.cc(258) LOG(INFO) Added: freq=81 size=4880 all=204171 active=11158 piece=▁말하는\n",
      "bpe_model_trainer.cc(258) LOG(INFO) Added: freq=80 size=4900 all=204344 active=11331 piece=린다\n",
      "bpe_model_trainer.cc(167) LOG(INFO) Updating active symbols. max_freq=80 min_freq=24\n",
      "bpe_model_trainer.cc(258) LOG(INFO) Added: freq=80 size=4920 all=204675 active=10513 piece=▁출시\n",
      "bpe_model_trainer.cc(258) LOG(INFO) Added: freq=79 size=4940 all=204840 active=10678 piece=7)\n",
      "bpe_model_trainer.cc(258) LOG(INFO) Added: freq=79 size=4960 all=205280 active=11118 piece=ood\n",
      "bpe_model_trainer.cc(258) LOG(INFO) Added: freq=79 size=4980 all=205638 active=11476 piece=▁취재\n",
      "bpe_model_trainer.cc(258) LOG(INFO) Added: freq=79 size=5000 all=205784 active=11622 piece=▁태평양\n",
      "bpe_model_trainer.cc(167) LOG(INFO) Updating active symbols. max_freq=79 min_freq=23\n",
      "bpe_model_trainer.cc(258) LOG(INFO) Added: freq=78 size=5020 all=206093 active=10589 piece=피해\n",
      "bpe_model_trainer.cc(258) LOG(INFO) Added: freq=78 size=5040 all=206449 active=10945 piece=부에서\n",
      "bpe_model_trainer.cc(258) LOG(INFO) Added: freq=78 size=5060 all=206557 active=11053 piece=▁제안했다\n",
      "bpe_model_trainer.cc(258) LOG(INFO) Added: freq=77 size=5080 all=206909 active=11405 piece=지기\n",
      "bpe_model_trainer.cc(258) LOG(INFO) Added: freq=77 size=5100 all=207146 active=11642 piece=▁조기\n",
      "bpe_model_trainer.cc(167) LOG(INFO) Updating active symbols. max_freq=77 min_freq=23\n",
      "bpe_model_trainer.cc(258) LOG(INFO) Added: freq=77 size=5120 all=207236 active=10442 piece=▁시스템을\n",
      "bpe_model_trainer.cc(258) LOG(INFO) Added: freq=76 size=5140 all=207608 active=10814 piece=▁기지\n",
      "bpe_model_trainer.cc(258) LOG(INFO) Added: freq=76 size=5160 all=207821 active=11027 piece=러시아\n",
      "bpe_model_trainer.cc(258) LOG(INFO) Added: freq=76 size=5180 all=207914 active=11120 piece=▁핵무기를\n",
      "bpe_model_trainer.cc(258) LOG(INFO) Added: freq=75 size=5200 all=208191 active=11397 piece=▁디지\n",
      "bpe_model_trainer.cc(167) LOG(INFO) Updating active symbols. max_freq=75 min_freq=23\n",
      "bpe_model_trainer.cc(258) LOG(INFO) Added: freq=75 size=5220 all=208461 active=10677 piece=움에서\n",
      "bpe_model_trainer.cc(258) LOG(INFO) Added: freq=75 size=5240 all=208514 active=10730 piece=▁마지막으로\n",
      "bpe_model_trainer.cc(258) LOG(INFO) Added: freq=74 size=5260 all=208896 active=11112 piece=▁달려\n",
      "bpe_model_trainer.cc(258) LOG(INFO) Added: freq=74 size=5280 all=209162 active=11378 piece=▁후세\n",
      "bpe_model_trainer.cc(258) LOG(INFO) Added: freq=74 size=5300 all=209227 active=11443 piece=▁서울에서\n",
      "bpe_model_trainer.cc(167) LOG(INFO) Updating active symbols. max_freq=74 min_freq=22\n",
      "bpe_model_trainer.cc(258) LOG(INFO) Added: freq=73 size=5320 all=209477 active=10712 piece=▁리히\n",
      "bpe_model_trainer.cc(258) LOG(INFO) Added: freq=73 size=5340 all=209767 active=11002 piece=▁공연을\n",
      "bpe_model_trainer.cc(258) LOG(INFO) Added: freq=73 size=5360 all=209795 active=11030 piece=▁했습니다\n",
      "bpe_model_trainer.cc(258) LOG(INFO) Added: freq=72 size=5380 all=210062 active=11297 piece=ust\n",
      "bpe_model_trainer.cc(258) LOG(INFO) Added: freq=72 size=5400 all=210408 active=11643 piece=▁채택\n",
      "bpe_model_trainer.cc(167) LOG(INFO) Updating active symbols. max_freq=72 min_freq=22\n",
      "bpe_model_trainer.cc(258) LOG(INFO) Added: freq=72 size=5420 all=210533 active=10623 piece=▁프로그램에\n",
      "bpe_model_trainer.cc(258) LOG(INFO) Added: freq=71 size=5440 all=210953 active=11043 piece=▁노르\n",
      "bpe_model_trainer.cc(258) LOG(INFO) Added: freq=71 size=5460 all=211215 active=11305 piece=▁저질\n",
      "bpe_model_trainer.cc(258) LOG(INFO) Added: freq=71 size=5480 all=211414 active=11504 piece=▁실종된\n",
      "bpe_model_trainer.cc(258) LOG(INFO) Added: freq=70 size=5500 all=211540 active=11630 piece=러스\n",
      "bpe_model_trainer.cc(167) LOG(INFO) Updating active symbols. max_freq=70 min_freq=22\n",
      "bpe_model_trainer.cc(258) LOG(INFO) Added: freq=70 size=5520 all=211982 active=10987 piece=▁무료\n",
      "bpe_model_trainer.cc(258) LOG(INFO) Added: freq=70 size=5540 all=212188 active=11193 piece=▁비용이\n",
      "bpe_model_trainer.cc(258) LOG(INFO) Added: freq=69 size=5560 all=212201 active=11206 piece=▁똑\n",
      "bpe_model_trainer.cc(258) LOG(INFO) Added: freq=69 size=5580 all=212612 active=11617 piece=▁고소\n",
      "bpe_model_trainer.cc(258) LOG(INFO) Added: freq=69 size=5600 all=212844 active=11849 piece=▁디즈니\n",
      "bpe_model_trainer.cc(167) LOG(INFO) Updating active symbols. max_freq=69 min_freq=21\n",
      "bpe_model_trainer.cc(258) LOG(INFO) Added: freq=69 size=5620 all=212907 active=10690 piece=▁보안관은\n",
      "bpe_model_trainer.cc(258) LOG(INFO) Added: freq=68 size=5640 all=213164 active=10947 piece=▁가로\n",
      "bpe_model_trainer.cc(258) LOG(INFO) Added: freq=68 size=5660 all=213397 active=11180 piece=▁합병\n",
      "bpe_model_trainer.cc(258) LOG(INFO) Added: freq=68 size=5680 all=213501 active=11284 piece=▁역사적인\n",
      "bpe_model_trainer.cc(258) LOG(INFO) Added: freq=67 size=5700 all=213953 active=11736 piece=▁52\n",
      "bpe_model_trainer.cc(167) LOG(INFO) Updating active symbols. max_freq=67 min_freq=21\n",
      "bpe_model_trainer.cc(258) LOG(INFO) Added: freq=67 size=5720 all=214172 active=10906 piece=카르타\n",
      "bpe_model_trainer.cc(258) LOG(INFO) Added: freq=67 size=5740 all=214286 active=11020 piece=▁뉴욕에서\n",
      "bpe_model_trainer.cc(258) LOG(INFO) Added: freq=66 size=5760 all=214415 active=11149 piece=뉴스\n",
      "bpe_model_trainer.cc(258) LOG(INFO) Added: freq=66 size=5780 all=214838 active=11572 piece=▁55\n",
      "bpe_model_trainer.cc(258) LOG(INFO) Added: freq=66 size=5800 all=215100 active=11834 piece=샤라포\n",
      "bpe_model_trainer.cc(167) LOG(INFO) Updating active symbols. max_freq=66 min_freq=21\n",
      "bpe_model_trainer.cc(258) LOG(INFO) Added: freq=66 size=5820 all=215130 active=10783 piece=마빈라덴\n",
      "bpe_model_trainer.cc(258) LOG(INFO) Added: freq=65 size=5840 all=215388 active=11041 piece=아프\n",
      "bpe_model_trainer.cc(258) LOG(INFO) Added: freq=65 size=5860 all=215679 active=11332 piece=▁비공\n",
      "bpe_model_trainer.cc(258) LOG(INFO) Added: freq=65 size=5880 all=215966 active=11619 piece=▁ABC\n",
      "bpe_model_trainer.cc(258) LOG(INFO) Added: freq=65 size=5900 all=215993 active=11646 piece=▁수백명의\n",
      "bpe_model_trainer.cc(167) LOG(INFO) Updating active symbols. max_freq=65 min_freq=20\n",
      "bpe_model_trainer.cc(258) LOG(INFO) Added: freq=64 size=5920 all=216173 active=10980 piece=▁메릴\n",
      "bpe_model_trainer.cc(258) LOG(INFO) Added: freq=64 size=5940 all=216473 active=11280 piece=페인을\n",
      "bpe_model_trainer.cc(258) LOG(INFO) Added: freq=64 size=5960 all=216520 active=11327 piece=▁소프트웨어\n",
      "bpe_model_trainer.cc(258) LOG(INFO) Added: freq=63 size=5980 all=216830 active=11637 piece=▁감지\n",
      "bpe_model_trainer.cc(258) LOG(INFO) Added: freq=63 size=6000 all=217104 active=11911 piece=▁알라\n",
      "bpe_model_trainer.cc(167) LOG(INFO) Updating active symbols. max_freq=63 min_freq=20\n",
      "bpe_model_trainer.cc(258) LOG(INFO) Added: freq=63 size=6020 all=217441 active=11180 piece=▁두바이\n",
      "bpe_model_trainer.cc(258) LOG(INFO) Added: freq=63 size=6040 all=217551 active=11290 piece=▁수석대표\n",
      "bpe_model_trainer.cc(258) LOG(INFO) Added: freq=62 size=6060 all=217823 active=11562 piece=▁결코\n",
      "bpe_model_trainer.cc(258) LOG(INFO) Added: freq=62 size=6080 all=217997 active=11736 piece=▁영웅\n",
      "bpe_model_trainer.cc(258) LOG(INFO) Added: freq=62 size=6100 all=218280 active=12019 piece=경찰이\n",
      "bpe_model_trainer.cc(167) LOG(INFO) Updating active symbols. max_freq=62 min_freq=20\n",
      "bpe_model_trainer.cc(258) LOG(INFO) Added: freq=62 size=6120 all=218427 active=11055 piece=▁완전한\n",
      "bpe_model_trainer.cc(258) LOG(INFO) Added: freq=62 size=6140 all=218473 active=11101 piece=▁블라디미르\n",
      "bpe_model_trainer.cc(258) LOG(INFO) Added: freq=61 size=6160 all=218689 active=11317 piece=매우\n",
      "bpe_model_trainer.cc(258) LOG(INFO) Added: freq=61 size=6180 all=219053 active=11681 piece=▁년간\n",
      "bpe_model_trainer.cc(258) LOG(INFO) Added: freq=61 size=6200 all=219217 active=11845 piece=▁촉진\n",
      "bpe_model_trainer.cc(167) LOG(INFO) Updating active symbols. max_freq=61 min_freq=20\n",
      "bpe_model_trainer.cc(258) LOG(INFO) Added: freq=61 size=6220 all=219356 active=11078 piece=▁지하철\n",
      "bpe_model_trainer.cc(258) LOG(INFO) Added: freq=60 size=6240 all=219520 active=11242 piece=▁좁\n",
      "bpe_model_trainer.cc(258) LOG(INFO) Added: freq=60 size=6260 all=219914 active=11636 piece=▁골든\n",
      "bpe_model_trainer.cc(258) LOG(INFO) Added: freq=60 size=6280 all=220149 active=11871 piece=▁왕실\n",
      "bpe_model_trainer.cc(258) LOG(INFO) Added: freq=60 size=6300 all=220250 active=11972 piece=▁오늘날\n",
      "bpe_model_trainer.cc(167) LOG(INFO) Updating active symbols. max_freq=60 min_freq=19\n",
      "bpe_model_trainer.cc(258) LOG(INFO) Added: freq=60 size=6320 all=220293 active=11052 piece=▁공개적으로\n",
      "bpe_model_trainer.cc(258) LOG(INFO) Added: freq=59 size=6340 all=220631 active=11390 piece=ush\n",
      "bpe_model_trainer.cc(258) LOG(INFO) Added: freq=59 size=6360 all=220800 active=11559 piece=▁전설\n",
      "bpe_model_trainer.cc(258) LOG(INFO) Added: freq=59 size=6380 all=220995 active=11754 piece=▁리히터\n",
      "bpe_model_trainer.cc(258) LOG(INFO) Added: freq=59 size=6400 all=221012 active=11771 piece=▁포함돼\n",
      "bpe_model_trainer.cc(167) LOG(INFO) Updating active symbols. max_freq=59 min_freq=19\n",
      "bpe_model_trainer.cc(258) LOG(INFO) Added: freq=58 size=6420 all=221062 active=11097 piece=IV\n",
      "bpe_model_trainer.cc(258) LOG(INFO) Added: freq=58 size=6440 all=221439 active=11474 piece=▁Se\n",
      "bpe_model_trainer.cc(258) LOG(INFO) Added: freq=58 size=6460 all=221668 active=11703 piece=▁예선\n",
      "bpe_model_trainer.cc(258) LOG(INFO) Added: freq=58 size=6480 all=221875 active=11910 piece=▁마무드\n",
      "bpe_model_trainer.cc(258) LOG(INFO) Added: freq=58 size=6500 all=221934 active=11969 piece=▁목격자들은\n",
      "bpe_model_trainer.cc(167) LOG(INFO) Updating active symbols. max_freq=58 min_freq=19\n",
      "bpe_model_trainer.cc(258) LOG(INFO) Added: freq=57 size=6520 all=222334 active=11497 piece=ass\n",
      "bpe_model_trainer.cc(258) LOG(INFO) Added: freq=57 size=6540 all=222608 active=11771 piece=▁상반\n",
      "bpe_model_trainer.cc(258) LOG(INFO) Added: freq=57 size=6560 all=222855 active=12018 piece=웨이트\n",
      "bpe_model_trainer.cc(258) LOG(INFO) Added: freq=57 size=6580 all=222906 active=12069 piece=▁사업을\n",
      "bpe_model_trainer.cc(258) LOG(INFO) Added: freq=57 size=6600 all=222923 active=12086 piece=▁증가했다고\n",
      "bpe_model_trainer.cc(167) LOG(INFO) Updating active symbols. max_freq=57 min_freq=19\n",
      "bpe_model_trainer.cc(258) LOG(INFO) Added: freq=56 size=6620 all=223278 active=11502 piece=치게\n",
      "bpe_model_trainer.cc(258) LOG(INFO) Added: freq=56 size=6640 all=223554 active=11778 piece=▁맡고\n",
      "bpe_model_trainer.cc(258) LOG(INFO) Added: freq=56 size=6660 all=223785 active=12009 piece=식에서\n",
      "bpe_model_trainer.cc(258) LOG(INFO) Added: freq=56 size=6680 all=223850 active=12074 piece=▁조종사\n",
      "trainer_interface.cc(615) LOG(INFO) Saving model: korean_spm_bpe.model\n",
      "trainer_interface.cc(626) LOG(INFO) Saving vocabs: korean_spm_bpe.vocab\n"
     ]
    },
    {
     "name": "stdout",
     "output_type": "stream",
     "text": [
      "-rw-r--r-- 1 root root 371940 Nov  7 05:38 korean_spm_bpe.model\r\n",
      "-rw-r--r-- 1 root root 117142 Nov  7 05:38 korean_spm_bpe.vocab\r\n"
     ]
    }
   ],
   "source": [
    "temp_file = os.getenv('HOME')+'/aiffel/sp_tokenizer/data/korean-english-park.train.ko.temp'\n",
    "\n",
    "vocab_size = 8000\n",
    "\n",
    "with open(temp_file, 'w') as f:\n",
    "    for row in filtered_corpus:  \n",
    "        f.write(str(row) + '\\n')\n",
    "\n",
    "spm.SentencePieceTrainer.Train(\n",
    "    '--input={} --model_prefix=korean_spm_bpe --model_type=bpe --vocab_size={}'.format(temp_file, vocab_size)    \n",
    ")\n",
    "\n",
    "!ls -l korean_spm_bpe*"
   ]
  },
  {
   "cell_type": "code",
   "execution_count": 47,
   "id": "8a9b2f87",
   "metadata": {},
   "outputs": [
    {
     "name": "stdout",
     "output_type": "stream",
     "text": [
      "[1520, 1154, 6614, 6710, 2644, 6782, 6685, 6687]\n",
      "['▁아버', '지가', '방에', '들', '어가', '신', '다', '.']\n",
      "아버지가방에들어가신다.\n"
     ]
    }
   ],
   "source": [
    "s_bpe = spm.SentencePieceProcessor()\n",
    "s_bpe.Load('korean_spm_bpe.model')\n",
    "\n",
    "# SentencePiece를 활용한 sentence -> encoding\n",
    "tokensIDs = s_bpe.EncodeAsIds('아버지가방에들어가신다.')\n",
    "print(tokensIDs)\n",
    "\n",
    "# SentencePiece를 활용한 sentence -> encoded pieces\n",
    "print(s_bpe.SampleEncodeAsPieces('아버지가방에들어가신다.',1, 0.0))\n",
    "\n",
    "# SentencePiece를 활용한 encoding -> sentence 복원\n",
    "print(s_bpe.DecodeIds(tokensIDs))"
   ]
  },
  {
   "cell_type": "code",
   "execution_count": 48,
   "id": "fd70ba9a",
   "metadata": {},
   "outputs": [
    {
     "name": "stdout",
     "output_type": "stream",
     "text": [
      "['▁너무', '기', '대', '안', '하고', '갔', '나', '재', '밌', '게', '봤다']\n",
      "['▁', '굉', '장', '히', '잘', '만', '든', '수', '작', '지', '루', '할', '틈', '이', '없', '음']\n",
      "['▁개', 'O', 'O', 'O', '같은', '영화', '▁', '뭐', '가', '무', '섭', '다는', '건', '지', 'ᅳᅳ', '/']\n",
      "['▁너무', '합니다', '이', '무', '슨', '..', '유', '치', '찬', '란', '..', '오', '글', '거', '려', '못', '보', '겠', '네', '요']\n",
      "['▁개봉', '했을', '때', '부터', '▁지금', '까지', '▁마', '음이', '답', '답', '하거나', '▁힘들', '때', '▁이', '영화', '▁보고', '있', '어', '요', '▁그', '때', '마다', '▁심', '적인', '▁위', '로를', '▁받을', '수', '있는', '영화', '같', '아', '요', '▁장면', '▁하나', '하', '나가', '▁너무', '예', '쁘', '고', '▁마음', '에', '▁남아', '서', '▁진', '한', '▁여', '운', '까지', '▁주는', '영화', '▁감사', '합니다']\n"
     ]
    }
   ],
   "source": [
    "print(s_bpe.SampleEncodeAsPieces('너무기대안하고갔나재밌게봤다',1, 0.0))\n",
    "print(s_bpe.SampleEncodeAsPieces('굉장히잘만든수작지루할틈이없음',1, 0.0))\n",
    "print(s_bpe.SampleEncodeAsPieces('ㄱㅐOOO같은영화 뭐가무섭다는건지ㅡㅡ/',1, 0.0))\n",
    "print(s_bpe.SampleEncodeAsPieces('ㄴㅓ무합니다이무슨..유치찬란..오글거려못보겠네요',1, 0.0))\n",
    "print(s_bpe.SampleEncodeAsPieces('개봉했을때부터 지금까지 마음이답답하거나 힘들때 이영화 보고있어요 그때마다 심적인 위로를 받을수있는영화같아요 장면 하나하나가 너무예쁘고 마음에 남아서 진한 여운까지 주는영화 감사합니다',1, 0.0))"
   ]
  },
  {
   "cell_type": "markdown",
   "id": "7afb8c05",
   "metadata": {},
   "source": [
    "유니그램 모델과 비교해보자."
   ]
  },
  {
   "cell_type": "code",
   "execution_count": 49,
   "id": "628bac53",
   "metadata": {},
   "outputs": [
    {
     "name": "stdout",
     "output_type": "stream",
     "text": [
      "['▁너무', '기', '대', '안', '하고', '갔', '나', '재', '밌', '게', '봤', '다']\n",
      "['▁', '굉', '장', '히', '잘', '만', '든', '수', '작', '지', '루', '할', '틈', '이', '없', '음']\n",
      "['▁개', 'O', 'O', 'O', '같은', '영화', '▁', '뭐', '가', '무', '섭', '다', '는', '건', '지', 'ᅳᅳ', '/']\n",
      "['▁너무', '합니다', '이', '무', '슨', '.', '.', '유', '치', '찬', '란', '.', '.', '오', '글', '거', '려', '못', '보', '겠', '네', '요']\n",
      "['▁개봉', '했을', '때', '부터', '▁지금', '까지', '▁마음', '이', '답', '답', '하거나', '▁힘들', '때', '▁이', '영화', '▁보고', '있', '어', '요', '▁그', '때', '마다', '▁심', '적인', '▁위로', '를', '▁받을', '수', '있는', '영화', '같', '아', '요', '▁장면', '▁하나', '하', '나', '가', '▁너무', '예', '쁘', '고', '▁마음', '에', '▁남아', '서', '▁진', '한', '▁여', '운', '까지', '▁주는', '영화', '▁감사', '합니다']\n"
     ]
    }
   ],
   "source": [
    "print(s.SampleEncodeAsPieces('너무기대안하고갔나재밌게봤다',1, 0.0))\n",
    "print(s.SampleEncodeAsPieces('굉장히잘만든수작지루할틈이없음',1, 0.0))\n",
    "print(s.SampleEncodeAsPieces('ㄱㅐOOO같은영화 뭐가무섭다는건지ㅡㅡ/',1, 0.0))\n",
    "print(s.SampleEncodeAsPieces('ㄴㅓ무합니다이무슨..유치찬란..오글거려못보겠네요',1, 0.0))\n",
    "print(s.SampleEncodeAsPieces('개봉했을때부터 지금까지 마음이답답하거나 힘들때 이영화 보고있어요 그때마다 심적인 위로를 받을수있는영화같아요 장면 하나하나가 너무예쁘고 마음에 남아서 진한 여운까지 주는영화 감사합니다',1, 0.0))"
   ]
  },
  {
   "cell_type": "markdown",
   "id": "977e39da",
   "metadata": {},
   "source": [
    "유니그램 모델보다 성능이 안 좋아보인다. 네번째 문장에서 bpe 모델은 '마음이답답하거나'를 '마', '음이' 등으로 나누고 있다."
   ]
  },
  {
   "cell_type": "code",
   "execution_count": 50,
   "id": "76ee32b2",
   "metadata": {},
   "outputs": [],
   "source": [
    "X_bpe, word_index, index_word = sp_tokenize(s_bpe, X)\n",
    "X_bpe_train = X_tensor[:len(X_train)]\n",
    "X_bpe_test = X_tensor[len(X_train):]"
   ]
  },
  {
   "cell_type": "code",
   "execution_count": 51,
   "id": "47e1d797",
   "metadata": {},
   "outputs": [
    {
     "data": {
      "text/plain": [
       "(194217, 140)"
      ]
     },
     "execution_count": 51,
     "metadata": {},
     "output_type": "execute_result"
    }
   ],
   "source": [
    "X_bpe.shape"
   ]
  },
  {
   "cell_type": "code",
   "execution_count": 52,
   "id": "00ca34e2",
   "metadata": {},
   "outputs": [
    {
     "name": "stdout",
     "output_type": "stream",
     "text": [
      "Model: \"sequential_2\"\n",
      "_________________________________________________________________\n",
      "Layer (type)                 Output Shape              Param #   \n",
      "=================================================================\n",
      "embedding_2 (Embedding)      (None, 140, 128)          1024000   \n",
      "_________________________________________________________________\n",
      "lstm_2 (LSTM)                (None, 60)                45360     \n",
      "_________________________________________________________________\n",
      "dense_4 (Dense)              (None, 10)                610       \n",
      "_________________________________________________________________\n",
      "dense_5 (Dense)              (None, 1)                 11        \n",
      "=================================================================\n",
      "Total params: 1,069,981\n",
      "Trainable params: 1,069,981\n",
      "Non-trainable params: 0\n",
      "_________________________________________________________________\n"
     ]
    }
   ],
   "source": [
    "embedding_dim = 128 \n",
    "max_len = 140 \n",
    "lstm_units = 60\n",
    "\n",
    "model = Sequential()\n",
    "\n",
    "model.add(Embedding(vocab_size, embedding_dim, input_length=max_len, mask_zero=True))\n",
    "\n",
    "model.add(LSTM(lstm_units))\n",
    "\n",
    "model.add(Dense(10, activation='relu'))\n",
    "model.add(Dense(1, activation='sigmoid'))\n",
    "\n",
    "model.summary()\n"
   ]
  },
  {
   "cell_type": "code",
   "execution_count": 53,
   "id": "c9a8ae87",
   "metadata": {},
   "outputs": [
    {
     "name": "stdout",
     "output_type": "stream",
     "text": [
      "Epoch 1/10\n",
      "909/909 [==============================] - 311s 339ms/step - loss: 0.4247 - accuracy: 0.8030 - val_loss: 0.3812 - val_accuracy: 0.8266\n",
      "Epoch 2/10\n",
      "909/909 [==============================] - 305s 336ms/step - loss: 0.3495 - accuracy: 0.8436 - val_loss: 0.3611 - val_accuracy: 0.8417\n",
      "Epoch 3/10\n",
      "909/909 [==============================] - 304s 334ms/step - loss: 0.3111 - accuracy: 0.8636 - val_loss: 0.3514 - val_accuracy: 0.8461\n",
      "Epoch 4/10\n",
      "909/909 [==============================] - 304s 334ms/step - loss: 0.2802 - accuracy: 0.8799 - val_loss: 0.3616 - val_accuracy: 0.8448\n",
      "Epoch 5/10\n",
      "909/909 [==============================] - 301s 331ms/step - loss: 0.2519 - accuracy: 0.8949 - val_loss: 0.3688 - val_accuracy: 0.8416\n",
      "Epoch 6/10\n",
      "909/909 [==============================] - 301s 331ms/step - loss: 0.2269 - accuracy: 0.9077 - val_loss: 0.3961 - val_accuracy: 0.8439\n",
      "Epoch 7/10\n",
      "909/909 [==============================] - 299s 328ms/step - loss: 0.2034 - accuracy: 0.9185 - val_loss: 0.4063 - val_accuracy: 0.8373\n",
      "Epoch 8/10\n",
      "909/909 [==============================] - 302s 333ms/step - loss: 0.1816 - accuracy: 0.9285 - val_loss: 0.4782 - val_accuracy: 0.8358\n",
      "Epoch 9/10\n",
      "909/909 [==============================] - 300s 330ms/step - loss: 0.1599 - accuracy: 0.9383 - val_loss: 0.4845 - val_accuracy: 0.8331\n",
      "Epoch 10/10\n",
      "909/909 [==============================] - 294s 324ms/step - loss: 0.1418 - accuracy: 0.9459 - val_loss: 0.5421 - val_accuracy: 0.8350\n"
     ]
    },
    {
     "data": {
      "text/plain": [
       "<keras.callbacks.History at 0x7fe5000436d0>"
      ]
     },
     "execution_count": 53,
     "metadata": {},
     "output_type": "execute_result"
    }
   ],
   "source": [
    "model.compile(loss='binary_crossentropy', optimizer='adam', metrics=['accuracy'])\n",
    "model.fit(X_bpe_train, y_train, epochs=10, batch_size=128, validation_split=0.2)"
   ]
  },
  {
   "cell_type": "code",
   "execution_count": 54,
   "id": "d9660951",
   "metadata": {},
   "outputs": [
    {
     "name": "stdout",
     "output_type": "stream",
     "text": [
      "1529/1529 [==============================] - 37s 24ms/step - loss: 0.5513 - accuracy: 0.8336\n"
     ]
    },
    {
     "data": {
      "text/plain": [
       "[0.551276445388794, 0.8335616588592529]"
      ]
     },
     "execution_count": 54,
     "metadata": {},
     "output_type": "execute_result"
    }
   ],
   "source": [
    "model.evaluate(X_sp_test, y_test)"
   ]
  },
  {
   "cell_type": "markdown",
   "id": "b3f22eaf",
   "metadata": {},
   "source": [
    "유니그램을 사용한 SentencePiece 모델과 비슷한 정확도를 보인다."
   ]
  },
  {
   "cell_type": "markdown",
   "id": "323b0bbd",
   "metadata": {},
   "source": [
    "## 회고\n",
    "- 전처리 과정에서 텍스트 데이터가 어떤 처리가 된 상태인지, 어떤 형태의 데이터로 존재하는지 파악하는 것이 헷갈린다. 중간 과정마다 데이터 모양을 확인하고 주석으로 기록할 필요가 있겠다.\n",
    "- sentencepiece 토크나이저를 사용했을 때 학습 속도가 현저하게 느렸는데, 패딩 마스크를 적용했기 때문이라고 생각했지만 mecab 토크나이저를 사용할 때에는 속도가 빠르게 학습이 됐고 결과적으로 원인 파악을 하지 못했다.\n",
    "- 형태소 분석 측면에서 mecab의 성능이 상대적으로 좋아보였고, 모델 학습 후 성능 지표에서 확실하게 향상된 것을 확인할 수 있었다.\n",
    "- 형태소 분석기의 성능을 판단할 수 있는 정량적인 지표는 없을까? "
   ]
  }
 ],
 "metadata": {
  "kernelspec": {
   "display_name": "Python 3 (ipykernel)",
   "language": "python",
   "name": "python3"
  },
  "language_info": {
   "codemirror_mode": {
    "name": "ipython",
    "version": 3
   },
   "file_extension": ".py",
   "mimetype": "text/x-python",
   "name": "python",
   "nbconvert_exporter": "python",
   "pygments_lexer": "ipython3",
   "version": "3.9.7"
  }
 },
 "nbformat": 4,
 "nbformat_minor": 5
}
